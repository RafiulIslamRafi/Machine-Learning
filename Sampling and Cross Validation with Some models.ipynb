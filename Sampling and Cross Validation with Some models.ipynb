{
 "cells": [
  {
   "cell_type": "markdown",
   "id": "4d083e09",
   "metadata": {},
   "source": [
    "### Overview: All Section\n",
    "- [ 1 - Import Liabraries and DataSet](#1)\n",
    "- [ 2 - Data Visualization](#2)\n",
    "- [ 3 - x, y separation](#3)\n",
    "- [ 4 - Imbalance Data handling ](#4)\n",
    "  - [ 4.1 SMOTETomek](#4.1)\n",
    "  - [ 4.2 Near Miss](#4.2)\n",
    "  - [ 4.3 Random Over](#4.3)\n",
    "- [5 Models and Train-Test Split](#5)\n",
    "- [6 - Without Cross Validation](#6)\n",
    "  - [ 6.1 Before Sampling](#6.1)\n",
    "  - [ 6.2 After Sampling: SMOTETomek, Near Miss, Random Over](#6.2)\n",
    "- [7 - With Cross Validation](#7)\n",
    "  - [ 7.1 Before Sampling](#7.1)\n",
    "    - [ 7.1.1 K Fold](#7.1.1)\n",
    "    - [ 7.1.2 Statified K Fold](#7.1.2)\n",
    "    - [ 7.1.3 Leave One Out](#7.1.3)\n",
    "  - [ 7.2 After Sampling](#7.2)\n",
    "    - [ 7.2.1 K Fold](#7.2.1)\n",
    "      - [ 7.2.1.1 SMOTETomek](#7.2.1.1)\n",
    "      - [ 7.2.1.2 Near Miss](#7.2.1.2)\n",
    "      - [ 7.2.1.3 Random Over](#7.2.1.3)\n",
    "    - [ 7.2.2 Statified K Fold](#7.2.2)\n",
    "      - [ 7.2.2.1 SMOTETomek](#7.2.2.1)\n",
    "      - [ 7.2.2.2 Near Miss](#7.2.2.2)\n",
    "      - [ 7.2.2.3 Random Over](#7.2.2.3)\n",
    "    - [ 7.2.3 Leave One Out](#7.2.3)\n",
    "      - [ 7.2.3.1 SMOTETomek](#7.2.3.1)\n",
    "      - [ 7.2.3.2 Near Miss](#7.2.3.2)\n",
    "      - [ 7.2.3.3 Random Over](#7.2.3.3)\n",
    "    "
   ]
  },
  {
   "cell_type": "markdown",
   "id": "fe710f47",
   "metadata": {},
   "source": [
    "Section 1"
   ]
  },
  {
   "cell_type": "code",
   "execution_count": 1,
   "id": "75c49020",
   "metadata": {},
   "outputs": [],
   "source": [
    "import pandas as pd \n",
    "import numpy as np \n",
    "import seaborn as sns \n",
    "import matplotlib.pyplot as plt \n",
    "import warnings\n",
    "warnings.filterwarnings('ignore')"
   ]
  },
  {
   "cell_type": "code",
   "execution_count": 2,
   "id": "72771565",
   "metadata": {},
   "outputs": [],
   "source": [
    "df = pd.read_csv('new churn data.csv') # import data set "
   ]
  },
  {
   "cell_type": "code",
   "execution_count": 3,
   "id": "5c158df8",
   "metadata": {},
   "outputs": [
    {
     "data": {
      "text/html": [
       "<div>\n",
       "<style scoped>\n",
       "    .dataframe tbody tr th:only-of-type {\n",
       "        vertical-align: middle;\n",
       "    }\n",
       "\n",
       "    .dataframe tbody tr th {\n",
       "        vertical-align: top;\n",
       "    }\n",
       "\n",
       "    .dataframe thead th {\n",
       "        text-align: right;\n",
       "    }\n",
       "</style>\n",
       "<table border=\"1\" class=\"dataframe\">\n",
       "  <thead>\n",
       "    <tr style=\"text-align: right;\">\n",
       "      <th></th>\n",
       "      <th>Unnamed: 0</th>\n",
       "      <th>gender</th>\n",
       "      <th>SeniorCitizen</th>\n",
       "      <th>Partner</th>\n",
       "      <th>Dependents</th>\n",
       "      <th>tenure</th>\n",
       "      <th>PhoneService</th>\n",
       "      <th>MultipleLines</th>\n",
       "      <th>InternetService</th>\n",
       "      <th>OnlineSecurity</th>\n",
       "      <th>...</th>\n",
       "      <th>DeviceProtection</th>\n",
       "      <th>TechSupport</th>\n",
       "      <th>StreamingTV</th>\n",
       "      <th>StreamingMovies</th>\n",
       "      <th>Contract</th>\n",
       "      <th>PaperlessBilling</th>\n",
       "      <th>PaymentMethod</th>\n",
       "      <th>MonthlyCharges</th>\n",
       "      <th>TotalCharges</th>\n",
       "      <th>Churn</th>\n",
       "    </tr>\n",
       "  </thead>\n",
       "  <tbody>\n",
       "    <tr>\n",
       "      <th>0</th>\n",
       "      <td>6607</td>\n",
       "      <td>1</td>\n",
       "      <td>0</td>\n",
       "      <td>0</td>\n",
       "      <td>1</td>\n",
       "      <td>1</td>\n",
       "      <td>0</td>\n",
       "      <td>1</td>\n",
       "      <td>0</td>\n",
       "      <td>0</td>\n",
       "      <td>...</td>\n",
       "      <td>0</td>\n",
       "      <td>0</td>\n",
       "      <td>0</td>\n",
       "      <td>0</td>\n",
       "      <td>0</td>\n",
       "      <td>1</td>\n",
       "      <td>2</td>\n",
       "      <td>25.30</td>\n",
       "      <td>2153</td>\n",
       "      <td>1</td>\n",
       "    </tr>\n",
       "    <tr>\n",
       "      <th>1</th>\n",
       "      <td>2598</td>\n",
       "      <td>0</td>\n",
       "      <td>0</td>\n",
       "      <td>0</td>\n",
       "      <td>0</td>\n",
       "      <td>7</td>\n",
       "      <td>1</td>\n",
       "      <td>0</td>\n",
       "      <td>1</td>\n",
       "      <td>0</td>\n",
       "      <td>...</td>\n",
       "      <td>2</td>\n",
       "      <td>0</td>\n",
       "      <td>0</td>\n",
       "      <td>0</td>\n",
       "      <td>0</td>\n",
       "      <td>1</td>\n",
       "      <td>2</td>\n",
       "      <td>75.15</td>\n",
       "      <td>4396</td>\n",
       "      <td>0</td>\n",
       "    </tr>\n",
       "    <tr>\n",
       "      <th>2</th>\n",
       "      <td>2345</td>\n",
       "      <td>0</td>\n",
       "      <td>0</td>\n",
       "      <td>0</td>\n",
       "      <td>1</td>\n",
       "      <td>4</td>\n",
       "      <td>1</td>\n",
       "      <td>0</td>\n",
       "      <td>2</td>\n",
       "      <td>1</td>\n",
       "      <td>...</td>\n",
       "      <td>1</td>\n",
       "      <td>1</td>\n",
       "      <td>1</td>\n",
       "      <td>1</td>\n",
       "      <td>0</td>\n",
       "      <td>1</td>\n",
       "      <td>0</td>\n",
       "      <td>20.05</td>\n",
       "      <td>6211</td>\n",
       "      <td>0</td>\n",
       "    </tr>\n",
       "    <tr>\n",
       "      <th>3</th>\n",
       "      <td>4093</td>\n",
       "      <td>0</td>\n",
       "      <td>0</td>\n",
       "      <td>0</td>\n",
       "      <td>0</td>\n",
       "      <td>29</td>\n",
       "      <td>1</td>\n",
       "      <td>2</td>\n",
       "      <td>1</td>\n",
       "      <td>0</td>\n",
       "      <td>...</td>\n",
       "      <td>0</td>\n",
       "      <td>0</td>\n",
       "      <td>0</td>\n",
       "      <td>0</td>\n",
       "      <td>0</td>\n",
       "      <td>1</td>\n",
       "      <td>1</td>\n",
       "      <td>76.00</td>\n",
       "      <td>1850</td>\n",
       "      <td>0</td>\n",
       "    </tr>\n",
       "    <tr>\n",
       "      <th>4</th>\n",
       "      <td>693</td>\n",
       "      <td>0</td>\n",
       "      <td>0</td>\n",
       "      <td>0</td>\n",
       "      <td>0</td>\n",
       "      <td>3</td>\n",
       "      <td>1</td>\n",
       "      <td>2</td>\n",
       "      <td>1</td>\n",
       "      <td>0</td>\n",
       "      <td>...</td>\n",
       "      <td>0</td>\n",
       "      <td>0</td>\n",
       "      <td>0</td>\n",
       "      <td>0</td>\n",
       "      <td>0</td>\n",
       "      <td>1</td>\n",
       "      <td>1</td>\n",
       "      <td>75.10</td>\n",
       "      <td>2350</td>\n",
       "      <td>1</td>\n",
       "    </tr>\n",
       "  </tbody>\n",
       "</table>\n",
       "<p>5 rows × 21 columns</p>\n",
       "</div>"
      ],
      "text/plain": [
       "   Unnamed: 0  gender  SeniorCitizen  Partner  Dependents  tenure  \\\n",
       "0        6607       1              0        0           1       1   \n",
       "1        2598       0              0        0           0       7   \n",
       "2        2345       0              0        0           1       4   \n",
       "3        4093       0              0        0           0      29   \n",
       "4         693       0              0        0           0       3   \n",
       "\n",
       "   PhoneService  MultipleLines  InternetService  OnlineSecurity  ...  \\\n",
       "0             0              1                0               0  ...   \n",
       "1             1              0                1               0  ...   \n",
       "2             1              0                2               1  ...   \n",
       "3             1              2                1               0  ...   \n",
       "4             1              2                1               0  ...   \n",
       "\n",
       "   DeviceProtection  TechSupport  StreamingTV  StreamingMovies  Contract  \\\n",
       "0                 0            0            0                0         0   \n",
       "1                 2            0            0                0         0   \n",
       "2                 1            1            1                1         0   \n",
       "3                 0            0            0                0         0   \n",
       "4                 0            0            0                0         0   \n",
       "\n",
       "   PaperlessBilling  PaymentMethod  MonthlyCharges  TotalCharges  Churn  \n",
       "0                 1              2           25.30          2153      1  \n",
       "1                 1              2           75.15          4396      0  \n",
       "2                 1              0           20.05          6211      0  \n",
       "3                 1              1           76.00          1850      0  \n",
       "4                 1              1           75.10          2350      1  \n",
       "\n",
       "[5 rows x 21 columns]"
      ]
     },
     "execution_count": 3,
     "metadata": {},
     "output_type": "execute_result"
    }
   ],
   "source": [
    "df.head()"
   ]
  },
  {
   "cell_type": "code",
   "execution_count": 4,
   "id": "d09f43d0",
   "metadata": {},
   "outputs": [
    {
     "data": {
      "text/plain": [
       "(5282, 21)"
      ]
     },
     "execution_count": 4,
     "metadata": {},
     "output_type": "execute_result"
    }
   ],
   "source": [
    "df.shape "
   ]
  },
  {
   "cell_type": "code",
   "execution_count": 5,
   "id": "e2bf48ec",
   "metadata": {},
   "outputs": [
    {
     "data": {
      "text/plain": [
       "(5282, 21)"
      ]
     },
     "execution_count": 5,
     "metadata": {},
     "output_type": "execute_result"
    }
   ],
   "source": [
    "df.drop_duplicates(inplace = True)\n",
    "df.shape"
   ]
  },
  {
   "cell_type": "code",
   "execution_count": 6,
   "id": "96ba0658",
   "metadata": {},
   "outputs": [
    {
     "data": {
      "text/plain": [
       "Unnamed: 0          0\n",
       "gender              0\n",
       "SeniorCitizen       0\n",
       "Partner             0\n",
       "Dependents          0\n",
       "tenure              0\n",
       "PhoneService        0\n",
       "MultipleLines       0\n",
       "InternetService     0\n",
       "OnlineSecurity      0\n",
       "OnlineBackup        0\n",
       "DeviceProtection    0\n",
       "TechSupport         0\n",
       "StreamingTV         0\n",
       "StreamingMovies     0\n",
       "Contract            0\n",
       "PaperlessBilling    0\n",
       "PaymentMethod       0\n",
       "MonthlyCharges      0\n",
       "TotalCharges        0\n",
       "Churn               0\n",
       "dtype: int64"
      ]
     },
     "execution_count": 6,
     "metadata": {},
     "output_type": "execute_result"
    }
   ],
   "source": [
    "df.isnull().sum()"
   ]
  },
  {
   "cell_type": "code",
   "execution_count": 7,
   "id": "4cb2daa1",
   "metadata": {},
   "outputs": [
    {
     "data": {
      "text/plain": [
       "0    3892\n",
       "1    1390\n",
       "Name: Churn, dtype: int64"
      ]
     },
     "execution_count": 7,
     "metadata": {},
     "output_type": "execute_result"
    }
   ],
   "source": [
    "df.Churn.value_counts()"
   ]
  },
  {
   "cell_type": "code",
   "execution_count": 8,
   "id": "1d244a81",
   "metadata": {},
   "outputs": [],
   "source": [
    "df2 = df.copy()\n",
    "df3 = df.copy()\n",
    "df4 = df.copy()\n",
    "df5 = df.copy()\n",
    "df6 = df.copy()\n",
    "df7 = df.copy()\n",
    "df8 = df.copy()\n",
    "df9 = df.copy()\n",
    "df10 = df.copy()"
   ]
  },
  {
   "cell_type": "markdown",
   "id": "589a0a8e",
   "metadata": {},
   "source": [
    "# Section 2: Data Visualization"
   ]
  },
  {
   "cell_type": "code",
   "execution_count": 10,
   "id": "f3cebd5c",
   "metadata": {},
   "outputs": [
    {
     "data": {
      "text/plain": [
       "<AxesSubplot:xlabel='Churn', ylabel='count'>"
      ]
     },
     "execution_count": 10,
     "metadata": {},
     "output_type": "execute_result"
    },
    {
     "data": {
      "image/png": "[encoded data removed]",
      "text/plain": [
       "<Figure size 432x288 with 1 Axes>"
      ]
     },
     "metadata": {
      "needs_background": "light"
     },
     "output_type": "display_data"
    }
   ],
   "source": [
    "sns.countplot(df['Churn'],color='#2B00FF')"
   ]
  },
  {
   "cell_type": "code",
   "execution_count": 11,
   "id": "6a0e052a",
   "metadata": {},
   "outputs": [
    {
     "data": {
      "text/html": [
       "<div>\n",
       "<style scoped>\n",
       "    .dataframe tbody tr th:only-of-type {\n",
       "        vertical-align: middle;\n",
       "    }\n",
       "\n",
       "    .dataframe tbody tr th {\n",
       "        vertical-align: top;\n",
       "    }\n",
       "\n",
       "    .dataframe thead th {\n",
       "        text-align: right;\n",
       "    }\n",
       "</style>\n",
       "<table border=\"1\" class=\"dataframe\">\n",
       "  <thead>\n",
       "    <tr style=\"text-align: right;\">\n",
       "      <th></th>\n",
       "      <th>Unnamed: 0</th>\n",
       "      <th>gender</th>\n",
       "      <th>SeniorCitizen</th>\n",
       "      <th>Partner</th>\n",
       "      <th>Dependents</th>\n",
       "      <th>tenure</th>\n",
       "      <th>PhoneService</th>\n",
       "      <th>MultipleLines</th>\n",
       "      <th>InternetService</th>\n",
       "      <th>OnlineSecurity</th>\n",
       "      <th>...</th>\n",
       "      <th>DeviceProtection</th>\n",
       "      <th>TechSupport</th>\n",
       "      <th>StreamingTV</th>\n",
       "      <th>StreamingMovies</th>\n",
       "      <th>Contract</th>\n",
       "      <th>PaperlessBilling</th>\n",
       "      <th>PaymentMethod</th>\n",
       "      <th>MonthlyCharges</th>\n",
       "      <th>TotalCharges</th>\n",
       "      <th>Churn</th>\n",
       "    </tr>\n",
       "  </thead>\n",
       "  <tbody>\n",
       "    <tr>\n",
       "      <th>Unnamed: 0</th>\n",
       "      <td>1.000000</td>\n",
       "      <td>-0.000100</td>\n",
       "      <td>0.000731</td>\n",
       "      <td>-0.001294</td>\n",
       "      <td>-0.011669</td>\n",
       "      <td>0.001884</td>\n",
       "      <td>-0.034278</td>\n",
       "      <td>-0.013540</td>\n",
       "      <td>-0.018709</td>\n",
       "      <td>-0.006494</td>\n",
       "      <td>...</td>\n",
       "      <td>-0.013033</td>\n",
       "      <td>0.006410</td>\n",
       "      <td>-0.005278</td>\n",
       "      <td>-0.020546</td>\n",
       "      <td>-0.003440</td>\n",
       "      <td>0.010875</td>\n",
       "      <td>0.025083</td>\n",
       "      <td>-0.014253</td>\n",
       "      <td>0.015267</td>\n",
       "      <td>0.010374</td>\n",
       "    </tr>\n",
       "    <tr>\n",
       "      <th>gender</th>\n",
       "      <td>-0.000100</td>\n",
       "      <td>1.000000</td>\n",
       "      <td>-0.005691</td>\n",
       "      <td>-0.010143</td>\n",
       "      <td>0.011058</td>\n",
       "      <td>0.001303</td>\n",
       "      <td>-0.009706</td>\n",
       "      <td>-0.000430</td>\n",
       "      <td>-0.005294</td>\n",
       "      <td>-0.020189</td>\n",
       "      <td>...</td>\n",
       "      <td>-0.009305</td>\n",
       "      <td>-0.010619</td>\n",
       "      <td>-0.012994</td>\n",
       "      <td>-0.011420</td>\n",
       "      <td>0.000555</td>\n",
       "      <td>-0.014090</td>\n",
       "      <td>0.010188</td>\n",
       "      <td>-0.018822</td>\n",
       "      <td>-0.022718</td>\n",
       "      <td>-0.011997</td>\n",
       "    </tr>\n",
       "    <tr>\n",
       "      <th>SeniorCitizen</th>\n",
       "      <td>0.000731</td>\n",
       "      <td>-0.005691</td>\n",
       "      <td>1.000000</td>\n",
       "      <td>0.016648</td>\n",
       "      <td>-0.211271</td>\n",
       "      <td>0.006176</td>\n",
       "      <td>0.000581</td>\n",
       "      <td>0.129040</td>\n",
       "      <td>-0.040186</td>\n",
       "      <td>-0.129719</td>\n",
       "      <td>...</td>\n",
       "      <td>-0.015922</td>\n",
       "      <td>-0.151078</td>\n",
       "      <td>0.024338</td>\n",
       "      <td>0.043124</td>\n",
       "      <td>-0.151939</td>\n",
       "      <td>0.156417</td>\n",
       "      <td>-0.035050</td>\n",
       "      <td>0.219945</td>\n",
       "      <td>0.040956</td>\n",
       "      <td>0.146549</td>\n",
       "    </tr>\n",
       "    <tr>\n",
       "      <th>Partner</th>\n",
       "      <td>-0.001294</td>\n",
       "      <td>-0.010143</td>\n",
       "      <td>0.016648</td>\n",
       "      <td>1.000000</td>\n",
       "      <td>0.447629</td>\n",
       "      <td>0.382432</td>\n",
       "      <td>0.031578</td>\n",
       "      <td>0.151068</td>\n",
       "      <td>0.007205</td>\n",
       "      <td>0.159928</td>\n",
       "      <td>...</td>\n",
       "      <td>0.168815</td>\n",
       "      <td>0.132582</td>\n",
       "      <td>0.136715</td>\n",
       "      <td>0.122310</td>\n",
       "      <td>0.303243</td>\n",
       "      <td>-0.020634</td>\n",
       "      <td>-0.160535</td>\n",
       "      <td>0.105603</td>\n",
       "      <td>0.069859</td>\n",
       "      <td>-0.150053</td>\n",
       "    </tr>\n",
       "    <tr>\n",
       "      <th>Dependents</th>\n",
       "      <td>-0.011669</td>\n",
       "      <td>0.011058</td>\n",
       "      <td>-0.211271</td>\n",
       "      <td>0.447629</td>\n",
       "      <td>1.000000</td>\n",
       "      <td>0.162933</td>\n",
       "      <td>-0.005830</td>\n",
       "      <td>-0.020722</td>\n",
       "      <td>0.041972</td>\n",
       "      <td>0.157262</td>\n",
       "      <td>...</td>\n",
       "      <td>0.076783</td>\n",
       "      <td>0.137274</td>\n",
       "      <td>0.045948</td>\n",
       "      <td>0.023907</td>\n",
       "      <td>0.243080</td>\n",
       "      <td>-0.109935</td>\n",
       "      <td>-0.040414</td>\n",
       "      <td>-0.114920</td>\n",
       "      <td>-0.013196</td>\n",
       "      <td>-0.164490</td>\n",
       "    </tr>\n",
       "    <tr>\n",
       "      <th>tenure</th>\n",
       "      <td>0.001884</td>\n",
       "      <td>0.001303</td>\n",
       "      <td>0.006176</td>\n",
       "      <td>0.382432</td>\n",
       "      <td>0.162933</td>\n",
       "      <td>1.000000</td>\n",
       "      <td>0.005912</td>\n",
       "      <td>0.354790</td>\n",
       "      <td>-0.032037</td>\n",
       "      <td>0.325451</td>\n",
       "      <td>...</td>\n",
       "      <td>0.369331</td>\n",
       "      <td>0.326993</td>\n",
       "      <td>0.288135</td>\n",
       "      <td>0.301600</td>\n",
       "      <td>0.671184</td>\n",
       "      <td>0.004043</td>\n",
       "      <td>-0.360323</td>\n",
       "      <td>0.253605</td>\n",
       "      <td>0.152843</td>\n",
       "      <td>-0.345544</td>\n",
       "    </tr>\n",
       "    <tr>\n",
       "      <th>PhoneService</th>\n",
       "      <td>-0.034278</td>\n",
       "      <td>-0.009706</td>\n",
       "      <td>0.000581</td>\n",
       "      <td>0.031578</td>\n",
       "      <td>-0.005830</td>\n",
       "      <td>0.005912</td>\n",
       "      <td>1.000000</td>\n",
       "      <td>-0.016345</td>\n",
       "      <td>0.385682</td>\n",
       "      <td>-0.007874</td>\n",
       "      <td>...</td>\n",
       "      <td>0.000422</td>\n",
       "      <td>-0.006139</td>\n",
       "      <td>0.055390</td>\n",
       "      <td>0.048362</td>\n",
       "      <td>0.005342</td>\n",
       "      <td>0.014489</td>\n",
       "      <td>0.006362</td>\n",
       "      <td>0.247419</td>\n",
       "      <td>0.081045</td>\n",
       "      <td>0.010122</td>\n",
       "    </tr>\n",
       "    <tr>\n",
       "      <th>MultipleLines</th>\n",
       "      <td>-0.013540</td>\n",
       "      <td>-0.000430</td>\n",
       "      <td>0.129040</td>\n",
       "      <td>0.151068</td>\n",
       "      <td>-0.020722</td>\n",
       "      <td>0.354790</td>\n",
       "      <td>-0.016345</td>\n",
       "      <td>1.000000</td>\n",
       "      <td>-0.105796</td>\n",
       "      <td>0.006028</td>\n",
       "      <td>...</td>\n",
       "      <td>0.132798</td>\n",
       "      <td>0.019266</td>\n",
       "      <td>0.172380</td>\n",
       "      <td>0.188860</td>\n",
       "      <td>0.120023</td>\n",
       "      <td>0.172369</td>\n",
       "      <td>-0.176313</td>\n",
       "      <td>0.436398</td>\n",
       "      <td>0.118773</td>\n",
       "      <td>0.031270</td>\n",
       "    </tr>\n",
       "    <tr>\n",
       "      <th>InternetService</th>\n",
       "      <td>-0.018709</td>\n",
       "      <td>-0.005294</td>\n",
       "      <td>-0.040186</td>\n",
       "      <td>0.007205</td>\n",
       "      <td>0.041972</td>\n",
       "      <td>-0.032037</td>\n",
       "      <td>0.385682</td>\n",
       "      <td>-0.105796</td>\n",
       "      <td>1.000000</td>\n",
       "      <td>-0.027201</td>\n",
       "      <td>...</td>\n",
       "      <td>0.048320</td>\n",
       "      <td>-0.018510</td>\n",
       "      <td>0.101060</td>\n",
       "      <td>0.092672</td>\n",
       "      <td>0.097158</td>\n",
       "      <td>-0.141856</td>\n",
       "      <td>0.095054</td>\n",
       "      <td>-0.325588</td>\n",
       "      <td>-0.064748</td>\n",
       "      <td>-0.048820</td>\n",
       "    </tr>\n",
       "    <tr>\n",
       "      <th>OnlineSecurity</th>\n",
       "      <td>-0.006494</td>\n",
       "      <td>-0.020189</td>\n",
       "      <td>-0.129719</td>\n",
       "      <td>0.159928</td>\n",
       "      <td>0.157262</td>\n",
       "      <td>0.325451</td>\n",
       "      <td>-0.007874</td>\n",
       "      <td>0.006028</td>\n",
       "      <td>-0.027201</td>\n",
       "      <td>1.000000</td>\n",
       "      <td>...</td>\n",
       "      <td>0.182355</td>\n",
       "      <td>0.276510</td>\n",
       "      <td>0.057760</td>\n",
       "      <td>0.065996</td>\n",
       "      <td>0.371159</td>\n",
       "      <td>-0.146473</td>\n",
       "      <td>-0.085892</td>\n",
       "      <td>-0.049605</td>\n",
       "      <td>0.036493</td>\n",
       "      <td>-0.288926</td>\n",
       "    </tr>\n",
       "    <tr>\n",
       "      <th>OnlineBackup</th>\n",
       "      <td>-0.005515</td>\n",
       "      <td>-0.025773</td>\n",
       "      <td>-0.012166</td>\n",
       "      <td>0.166939</td>\n",
       "      <td>0.095640</td>\n",
       "      <td>0.371342</td>\n",
       "      <td>0.017500</td>\n",
       "      <td>0.134460</td>\n",
       "      <td>0.032058</td>\n",
       "      <td>0.186626</td>\n",
       "      <td>...</td>\n",
       "      <td>0.191348</td>\n",
       "      <td>0.189892</td>\n",
       "      <td>0.142882</td>\n",
       "      <td>0.151145</td>\n",
       "      <td>0.282646</td>\n",
       "      <td>-0.019611</td>\n",
       "      <td>-0.111508</td>\n",
       "      <td>0.125340</td>\n",
       "      <td>0.090223</td>\n",
       "      <td>-0.193152</td>\n",
       "    </tr>\n",
       "    <tr>\n",
       "      <th>DeviceProtection</th>\n",
       "      <td>-0.013033</td>\n",
       "      <td>-0.009305</td>\n",
       "      <td>-0.015922</td>\n",
       "      <td>0.168815</td>\n",
       "      <td>0.076783</td>\n",
       "      <td>0.369331</td>\n",
       "      <td>0.000422</td>\n",
       "      <td>0.132798</td>\n",
       "      <td>0.048320</td>\n",
       "      <td>0.182355</td>\n",
       "      <td>...</td>\n",
       "      <td>1.000000</td>\n",
       "      <td>0.247866</td>\n",
       "      <td>0.278896</td>\n",
       "      <td>0.301894</td>\n",
       "      <td>0.352138</td>\n",
       "      <td>-0.032091</td>\n",
       "      <td>-0.135513</td>\n",
       "      <td>0.162808</td>\n",
       "      <td>0.103120</td>\n",
       "      <td>-0.173138</td>\n",
       "    </tr>\n",
       "    <tr>\n",
       "      <th>TechSupport</th>\n",
       "      <td>0.006410</td>\n",
       "      <td>-0.010619</td>\n",
       "      <td>-0.151078</td>\n",
       "      <td>0.132582</td>\n",
       "      <td>0.137274</td>\n",
       "      <td>0.326993</td>\n",
       "      <td>-0.006139</td>\n",
       "      <td>0.019266</td>\n",
       "      <td>-0.018510</td>\n",
       "      <td>0.276510</td>\n",
       "      <td>...</td>\n",
       "      <td>0.247866</td>\n",
       "      <td>1.000000</td>\n",
       "      <td>0.174178</td>\n",
       "      <td>0.172420</td>\n",
       "      <td>0.428750</td>\n",
       "      <td>-0.113245</td>\n",
       "      <td>-0.097672</td>\n",
       "      <td>-0.001710</td>\n",
       "      <td>0.053532</td>\n",
       "      <td>-0.274718</td>\n",
       "    </tr>\n",
       "    <tr>\n",
       "      <th>StreamingTV</th>\n",
       "      <td>-0.005278</td>\n",
       "      <td>-0.012994</td>\n",
       "      <td>0.024338</td>\n",
       "      <td>0.136715</td>\n",
       "      <td>0.045948</td>\n",
       "      <td>0.288135</td>\n",
       "      <td>0.055390</td>\n",
       "      <td>0.172380</td>\n",
       "      <td>0.101060</td>\n",
       "      <td>0.057760</td>\n",
       "      <td>...</td>\n",
       "      <td>0.278896</td>\n",
       "      <td>0.174178</td>\n",
       "      <td>1.000000</td>\n",
       "      <td>0.437809</td>\n",
       "      <td>0.231143</td>\n",
       "      <td>0.101389</td>\n",
       "      <td>-0.100597</td>\n",
       "      <td>0.338557</td>\n",
       "      <td>0.134112</td>\n",
       "      <td>-0.043920</td>\n",
       "    </tr>\n",
       "    <tr>\n",
       "      <th>StreamingMovies</th>\n",
       "      <td>-0.020546</td>\n",
       "      <td>-0.011420</td>\n",
       "      <td>0.043124</td>\n",
       "      <td>0.122310</td>\n",
       "      <td>0.023907</td>\n",
       "      <td>0.301600</td>\n",
       "      <td>0.048362</td>\n",
       "      <td>0.188860</td>\n",
       "      <td>0.092672</td>\n",
       "      <td>0.065996</td>\n",
       "      <td>...</td>\n",
       "      <td>0.301894</td>\n",
       "      <td>0.172420</td>\n",
       "      <td>0.437809</td>\n",
       "      <td>1.000000</td>\n",
       "      <td>0.236128</td>\n",
       "      <td>0.075255</td>\n",
       "      <td>-0.114956</td>\n",
       "      <td>0.339162</td>\n",
       "      <td>0.150553</td>\n",
       "      <td>-0.038240</td>\n",
       "    </tr>\n",
       "    <tr>\n",
       "      <th>Contract</th>\n",
       "      <td>-0.003440</td>\n",
       "      <td>0.000555</td>\n",
       "      <td>-0.151939</td>\n",
       "      <td>0.303243</td>\n",
       "      <td>0.243080</td>\n",
       "      <td>0.671184</td>\n",
       "      <td>0.005342</td>\n",
       "      <td>0.120023</td>\n",
       "      <td>0.097158</td>\n",
       "      <td>0.371159</td>\n",
       "      <td>...</td>\n",
       "      <td>0.352138</td>\n",
       "      <td>0.428750</td>\n",
       "      <td>0.231143</td>\n",
       "      <td>0.236128</td>\n",
       "      <td>1.000000</td>\n",
       "      <td>-0.185507</td>\n",
       "      <td>-0.218531</td>\n",
       "      <td>-0.067540</td>\n",
       "      <td>0.104879</td>\n",
       "      <td>-0.394490</td>\n",
       "    </tr>\n",
       "    <tr>\n",
       "      <th>PaperlessBilling</th>\n",
       "      <td>0.010875</td>\n",
       "      <td>-0.014090</td>\n",
       "      <td>0.156417</td>\n",
       "      <td>-0.020634</td>\n",
       "      <td>-0.109935</td>\n",
       "      <td>0.004043</td>\n",
       "      <td>0.014489</td>\n",
       "      <td>0.172369</td>\n",
       "      <td>-0.141856</td>\n",
       "      <td>-0.146473</td>\n",
       "      <td>...</td>\n",
       "      <td>-0.032091</td>\n",
       "      <td>-0.113245</td>\n",
       "      <td>0.101389</td>\n",
       "      <td>0.075255</td>\n",
       "      <td>-0.185507</td>\n",
       "      <td>1.000000</td>\n",
       "      <td>-0.063408</td>\n",
       "      <td>0.359566</td>\n",
       "      <td>0.101619</td>\n",
       "      <td>0.188793</td>\n",
       "    </tr>\n",
       "    <tr>\n",
       "      <th>PaymentMethod</th>\n",
       "      <td>0.025083</td>\n",
       "      <td>0.010188</td>\n",
       "      <td>-0.035050</td>\n",
       "      <td>-0.160535</td>\n",
       "      <td>-0.040414</td>\n",
       "      <td>-0.360323</td>\n",
       "      <td>0.006362</td>\n",
       "      <td>-0.176313</td>\n",
       "      <td>0.095054</td>\n",
       "      <td>-0.085892</td>\n",
       "      <td>...</td>\n",
       "      <td>-0.135513</td>\n",
       "      <td>-0.097672</td>\n",
       "      <td>-0.100597</td>\n",
       "      <td>-0.114956</td>\n",
       "      <td>-0.218531</td>\n",
       "      <td>-0.063408</td>\n",
       "      <td>1.000000</td>\n",
       "      <td>-0.194857</td>\n",
       "      <td>-0.056972</td>\n",
       "      <td>0.100015</td>\n",
       "    </tr>\n",
       "    <tr>\n",
       "      <th>MonthlyCharges</th>\n",
       "      <td>-0.014253</td>\n",
       "      <td>-0.018822</td>\n",
       "      <td>0.219945</td>\n",
       "      <td>0.105603</td>\n",
       "      <td>-0.114920</td>\n",
       "      <td>0.253605</td>\n",
       "      <td>0.247419</td>\n",
       "      <td>0.436398</td>\n",
       "      <td>-0.325588</td>\n",
       "      <td>-0.049605</td>\n",
       "      <td>...</td>\n",
       "      <td>0.162808</td>\n",
       "      <td>-0.001710</td>\n",
       "      <td>0.338557</td>\n",
       "      <td>0.339162</td>\n",
       "      <td>-0.067540</td>\n",
       "      <td>0.359566</td>\n",
       "      <td>-0.194857</td>\n",
       "      <td>1.000000</td>\n",
       "      <td>0.279822</td>\n",
       "      <td>0.186615</td>\n",
       "    </tr>\n",
       "    <tr>\n",
       "      <th>TotalCharges</th>\n",
       "      <td>0.015267</td>\n",
       "      <td>-0.022718</td>\n",
       "      <td>0.040956</td>\n",
       "      <td>0.069859</td>\n",
       "      <td>-0.013196</td>\n",
       "      <td>0.152843</td>\n",
       "      <td>0.081045</td>\n",
       "      <td>0.118773</td>\n",
       "      <td>-0.064748</td>\n",
       "      <td>0.036493</td>\n",
       "      <td>...</td>\n",
       "      <td>0.103120</td>\n",
       "      <td>0.053532</td>\n",
       "      <td>0.134112</td>\n",
       "      <td>0.150553</td>\n",
       "      <td>0.104879</td>\n",
       "      <td>0.101619</td>\n",
       "      <td>-0.056972</td>\n",
       "      <td>0.279822</td>\n",
       "      <td>1.000000</td>\n",
       "      <td>0.020294</td>\n",
       "    </tr>\n",
       "    <tr>\n",
       "      <th>Churn</th>\n",
       "      <td>0.010374</td>\n",
       "      <td>-0.011997</td>\n",
       "      <td>0.146549</td>\n",
       "      <td>-0.150053</td>\n",
       "      <td>-0.164490</td>\n",
       "      <td>-0.345544</td>\n",
       "      <td>0.010122</td>\n",
       "      <td>0.031270</td>\n",
       "      <td>-0.048820</td>\n",
       "      <td>-0.288926</td>\n",
       "      <td>...</td>\n",
       "      <td>-0.173138</td>\n",
       "      <td>-0.274718</td>\n",
       "      <td>-0.043920</td>\n",
       "      <td>-0.038240</td>\n",
       "      <td>-0.394490</td>\n",
       "      <td>0.188793</td>\n",
       "      <td>0.100015</td>\n",
       "      <td>0.186615</td>\n",
       "      <td>0.020294</td>\n",
       "      <td>1.000000</td>\n",
       "    </tr>\n",
       "  </tbody>\n",
       "</table>\n",
       "<p>21 rows × 21 columns</p>\n",
       "</div>"
      ],
      "text/plain": [
       "                  Unnamed: 0    gender  SeniorCitizen   Partner  Dependents  \\\n",
       "Unnamed: 0          1.000000 -0.000100       0.000731 -0.001294   -0.011669   \n",
       "gender             -0.000100  1.000000      -0.005691 -0.010143    0.011058   \n",
       "SeniorCitizen       0.000731 -0.005691       1.000000  0.016648   -0.211271   \n",
       "Partner            -0.001294 -0.010143       0.016648  1.000000    0.447629   \n",
       "Dependents         -0.011669  0.011058      -0.211271  0.447629    1.000000   \n",
       "tenure              0.001884  0.001303       0.006176  0.382432    0.162933   \n",
       "PhoneService       -0.034278 -0.009706       0.000581  0.031578   -0.005830   \n",
       "MultipleLines      -0.013540 -0.000430       0.129040  0.151068   -0.020722   \n",
       "InternetService    -0.018709 -0.005294      -0.040186  0.007205    0.041972   \n",
       "OnlineSecurity     -0.006494 -0.020189      -0.129719  0.159928    0.157262   \n",
       "OnlineBackup       -0.005515 -0.025773      -0.012166  0.166939    0.095640   \n",
       "DeviceProtection   -0.013033 -0.009305      -0.015922  0.168815    0.076783   \n",
       "TechSupport         0.006410 -0.010619      -0.151078  0.132582    0.137274   \n",
       "StreamingTV        -0.005278 -0.012994       0.024338  0.136715    0.045948   \n",
       "StreamingMovies    -0.020546 -0.011420       0.043124  0.122310    0.023907   \n",
       "Contract           -0.003440  0.000555      -0.151939  0.303243    0.243080   \n",
       "PaperlessBilling    0.010875 -0.014090       0.156417 -0.020634   -0.109935   \n",
       "PaymentMethod       0.025083  0.010188      -0.035050 -0.160535   -0.040414   \n",
       "MonthlyCharges     -0.014253 -0.018822       0.219945  0.105603   -0.114920   \n",
       "TotalCharges        0.015267 -0.022718       0.040956  0.069859   -0.013196   \n",
       "Churn               0.010374 -0.011997       0.146549 -0.150053   -0.164490   \n",
       "\n",
       "                    tenure  PhoneService  MultipleLines  InternetService  \\\n",
       "Unnamed: 0        0.001884     -0.034278      -0.013540        -0.018709   \n",
       "gender            0.001303     -0.009706      -0.000430        -0.005294   \n",
       "SeniorCitizen     0.006176      0.000581       0.129040        -0.040186   \n",
       "Partner           0.382432      0.031578       0.151068         0.007205   \n",
       "Dependents        0.162933     -0.005830      -0.020722         0.041972   \n",
       "tenure            1.000000      0.005912       0.354790        -0.032037   \n",
       "PhoneService      0.005912      1.000000      -0.016345         0.385682   \n",
       "MultipleLines     0.354790     -0.016345       1.000000        -0.105796   \n",
       "InternetService  -0.032037      0.385682      -0.105796         1.000000   \n",
       "OnlineSecurity    0.325451     -0.007874       0.006028        -0.027201   \n",
       "OnlineBackup      0.371342      0.017500       0.134460         0.032058   \n",
       "DeviceProtection  0.369331      0.000422       0.132798         0.048320   \n",
       "TechSupport       0.326993     -0.006139       0.019266        -0.018510   \n",
       "StreamingTV       0.288135      0.055390       0.172380         0.101060   \n",
       "StreamingMovies   0.301600      0.048362       0.188860         0.092672   \n",
       "Contract          0.671184      0.005342       0.120023         0.097158   \n",
       "PaperlessBilling  0.004043      0.014489       0.172369        -0.141856   \n",
       "PaymentMethod    -0.360323      0.006362      -0.176313         0.095054   \n",
       "MonthlyCharges    0.253605      0.247419       0.436398        -0.325588   \n",
       "TotalCharges      0.152843      0.081045       0.118773        -0.064748   \n",
       "Churn            -0.345544      0.010122       0.031270        -0.048820   \n",
       "\n",
       "                  OnlineSecurity  ...  DeviceProtection  TechSupport  \\\n",
       "Unnamed: 0             -0.006494  ...         -0.013033     0.006410   \n",
       "gender                 -0.020189  ...         -0.009305    -0.010619   \n",
       "SeniorCitizen          -0.129719  ...         -0.015922    -0.151078   \n",
       "Partner                 0.159928  ...          0.168815     0.132582   \n",
       "Dependents              0.157262  ...          0.076783     0.137274   \n",
       "tenure                  0.325451  ...          0.369331     0.326993   \n",
       "PhoneService           -0.007874  ...          0.000422    -0.006139   \n",
       "MultipleLines           0.006028  ...          0.132798     0.019266   \n",
       "InternetService        -0.027201  ...          0.048320    -0.018510   \n",
       "OnlineSecurity          1.000000  ...          0.182355     0.276510   \n",
       "OnlineBackup            0.186626  ...          0.191348     0.189892   \n",
       "DeviceProtection        0.182355  ...          1.000000     0.247866   \n",
       "TechSupport             0.276510  ...          0.247866     1.000000   \n",
       "StreamingTV             0.057760  ...          0.278896     0.174178   \n",
       "StreamingMovies         0.065996  ...          0.301894     0.172420   \n",
       "Contract                0.371159  ...          0.352138     0.428750   \n",
       "PaperlessBilling       -0.146473  ...         -0.032091    -0.113245   \n",
       "PaymentMethod          -0.085892  ...         -0.135513    -0.097672   \n",
       "MonthlyCharges         -0.049605  ...          0.162808    -0.001710   \n",
       "TotalCharges            0.036493  ...          0.103120     0.053532   \n",
       "Churn                  -0.288926  ...         -0.173138    -0.274718   \n",
       "\n",
       "                  StreamingTV  StreamingMovies  Contract  PaperlessBilling  \\\n",
       "Unnamed: 0          -0.005278        -0.020546 -0.003440          0.010875   \n",
       "gender              -0.012994        -0.011420  0.000555         -0.014090   \n",
       "SeniorCitizen        0.024338         0.043124 -0.151939          0.156417   \n",
       "Partner              0.136715         0.122310  0.303243         -0.020634   \n",
       "Dependents           0.045948         0.023907  0.243080         -0.109935   \n",
       "tenure               0.288135         0.301600  0.671184          0.004043   \n",
       "PhoneService         0.055390         0.048362  0.005342          0.014489   \n",
       "MultipleLines        0.172380         0.188860  0.120023          0.172369   \n",
       "InternetService      0.101060         0.092672  0.097158         -0.141856   \n",
       "OnlineSecurity       0.057760         0.065996  0.371159         -0.146473   \n",
       "OnlineBackup         0.142882         0.151145  0.282646         -0.019611   \n",
       "DeviceProtection     0.278896         0.301894  0.352138         -0.032091   \n",
       "TechSupport          0.174178         0.172420  0.428750         -0.113245   \n",
       "StreamingTV          1.000000         0.437809  0.231143          0.101389   \n",
       "StreamingMovies      0.437809         1.000000  0.236128          0.075255   \n",
       "Contract             0.231143         0.236128  1.000000         -0.185507   \n",
       "PaperlessBilling     0.101389         0.075255 -0.185507          1.000000   \n",
       "PaymentMethod       -0.100597        -0.114956 -0.218531         -0.063408   \n",
       "MonthlyCharges       0.338557         0.339162 -0.067540          0.359566   \n",
       "TotalCharges         0.134112         0.150553  0.104879          0.101619   \n",
       "Churn               -0.043920        -0.038240 -0.394490          0.188793   \n",
       "\n",
       "                  PaymentMethod  MonthlyCharges  TotalCharges     Churn  \n",
       "Unnamed: 0             0.025083       -0.014253      0.015267  0.010374  \n",
       "gender                 0.010188       -0.018822     -0.022718 -0.011997  \n",
       "SeniorCitizen         -0.035050        0.219945      0.040956  0.146549  \n",
       "Partner               -0.160535        0.105603      0.069859 -0.150053  \n",
       "Dependents            -0.040414       -0.114920     -0.013196 -0.164490  \n",
       "tenure                -0.360323        0.253605      0.152843 -0.345544  \n",
       "PhoneService           0.006362        0.247419      0.081045  0.010122  \n",
       "MultipleLines         -0.176313        0.436398      0.118773  0.031270  \n",
       "InternetService        0.095054       -0.325588     -0.064748 -0.048820  \n",
       "OnlineSecurity        -0.085892       -0.049605      0.036493 -0.288926  \n",
       "OnlineBackup          -0.111508        0.125340      0.090223 -0.193152  \n",
       "DeviceProtection      -0.135513        0.162808      0.103120 -0.173138  \n",
       "TechSupport           -0.097672       -0.001710      0.053532 -0.274718  \n",
       "StreamingTV           -0.100597        0.338557      0.134112 -0.043920  \n",
       "StreamingMovies       -0.114956        0.339162      0.150553 -0.038240  \n",
       "Contract              -0.218531       -0.067540      0.104879 -0.394490  \n",
       "PaperlessBilling      -0.063408        0.359566      0.101619  0.188793  \n",
       "PaymentMethod          1.000000       -0.194857     -0.056972  0.100015  \n",
       "MonthlyCharges        -0.194857        1.000000      0.279822  0.186615  \n",
       "TotalCharges          -0.056972        0.279822      1.000000  0.020294  \n",
       "Churn                  0.100015        0.186615      0.020294  1.000000  \n",
       "\n",
       "[21 rows x 21 columns]"
      ]
     },
     "execution_count": 11,
     "metadata": {},
     "output_type": "execute_result"
    }
   ],
   "source": [
    "df.corr()"
   ]
  },
  {
   "cell_type": "code",
   "execution_count": 12,
   "id": "576ee67c",
   "metadata": {},
   "outputs": [
    {
     "data": {
      "text/plain": [
       "<AxesSubplot:>"
      ]
     },
     "execution_count": 12,
     "metadata": {},
     "output_type": "execute_result"
    },
    {
     "data": {
      "image/png": "[encoded data removed]",
      "text/plain": [
       "<Figure size 1440x576 with 2 Axes>"
      ]
     },
     "metadata": {
      "needs_background": "light"
     },
     "output_type": "display_data"
    }
   ],
   "source": [
    "plt.figure(figsize=(20,8))\n",
    "sns.heatmap(df.corr() , annot=True)"
   ]
  },
  {
   "cell_type": "code",
   "execution_count": 13,
   "id": "cfa10cb4",
   "metadata": {},
   "outputs": [
    {
     "data": {
      "text/plain": [
       "<AxesSubplot:xlabel='count', ylabel='gender'>"
      ]
     },
     "execution_count": 13,
     "metadata": {},
     "output_type": "execute_result"
    },
    {
     "data": {
      "image/png": "[encoded data removed]",
      "text/plain": [
       "<Figure size 432x288 with 1 Axes>"
      ]
     },
     "metadata": {
      "needs_background": "light"
     },
     "output_type": "display_data"
    }
   ],
   "source": [
    "sns.countplot( y = 'gender', hue='Churn', data=df )"
   ]
  },
  {
   "cell_type": "code",
   "execution_count": 14,
   "id": "7b353544",
   "metadata": {},
   "outputs": [
    {
     "data": {
      "text/plain": [
       "<AxesSubplot:xlabel='gender', ylabel='count'>"
      ]
     },
     "execution_count": 14,
     "metadata": {},
     "output_type": "execute_result"
    },
    {
     "data": {
      "image/png": "[encoded data removed]",
      "text/plain": [
       "<Figure size 432x288 with 1 Axes>"
      ]
     },
     "metadata": {
      "needs_background": "light"
     },
     "output_type": "display_data"
    }
   ],
   "source": [
    "sns.countplot(x = 'gender', hue='Churn', data=df)"
   ]
  },
  {
   "cell_type": "code",
   "execution_count": 15,
   "id": "b16b27f1",
   "metadata": {},
   "outputs": [
    {
     "data": {
      "text/plain": [
       "<AxesSubplot:xlabel='InternetService', ylabel='count'>"
      ]
     },
     "execution_count": 15,
     "metadata": {},
     "output_type": "execute_result"
    },
    {
     "data": {
      "image/png": "[encoded data removed]",
      "text/plain": [
       "<Figure size 432x288 with 1 Axes>"
      ]
     },
     "metadata": {
      "needs_background": "light"
     },
     "output_type": "display_data"
    }
   ],
   "source": [
    "sns.countplot(x = 'InternetService', hue='Churn', data=df)"
   ]
  },
  {
   "cell_type": "code",
   "execution_count": 16,
   "id": "a63f026c",
   "metadata": {},
   "outputs": [
    {
     "data": {
      "text/plain": [
       "<AxesSubplot:xlabel='PhoneService', ylabel='count'>"
      ]
     },
     "execution_count": 16,
     "metadata": {},
     "output_type": "execute_result"
    },
    {
     "data": {
      "image/png": "[encoded data removed]",
      "text/plain": [
       "<Figure size 432x288 with 1 Axes>"
      ]
     },
     "metadata": {
      "needs_background": "light"
     },
     "output_type": "display_data"
    }
   ],
   "source": [
    "sns.countplot(x = 'PhoneService', hue='Churn', data=df)"
   ]
  },
  {
   "cell_type": "code",
   "execution_count": 17,
   "id": "f918ff05",
   "metadata": {},
   "outputs": [
    {
     "data": {
      "text/plain": [
       "<AxesSubplot:xlabel='OnlineSecurity', ylabel='count'>"
      ]
     },
     "execution_count": 17,
     "metadata": {},
     "output_type": "execute_result"
    },
    {
     "data": {
      "image/png": "[encoded data removed]",
      "text/plain": [
       "<Figure size 432x288 with 1 Axes>"
      ]
     },
     "metadata": {
      "needs_background": "light"
     },
     "output_type": "display_data"
    }
   ],
   "source": [
    "sns.countplot(x = 'OnlineSecurity',hue='Churn', data=df)"
   ]
  },
  {
   "cell_type": "code",
   "execution_count": 18,
   "id": "22b71f19",
   "metadata": {},
   "outputs": [
    {
     "data": {
      "text/plain": [
       "0    2625\n",
       "2    1509\n",
       "1    1148\n",
       "Name: OnlineSecurity, dtype: int64"
      ]
     },
     "execution_count": 18,
     "metadata": {},
     "output_type": "execute_result"
    }
   ],
   "source": [
    "df['OnlineSecurity'].value_counts() "
   ]
  },
  {
   "cell_type": "code",
   "execution_count": 19,
   "id": "3017b7d6",
   "metadata": {},
   "outputs": [
    {
     "data": {
      "text/plain": [
       "<AxesSubplot:xlabel='count', ylabel='PaymentMethod'>"
      ]
     },
     "execution_count": 19,
     "metadata": {},
     "output_type": "execute_result"
    },
    {
     "data": {
      "image/png": "[encoded data removed]",
      "text/plain": [
       "<Figure size 720x432 with 1 Axes>"
      ]
     },
     "metadata": {
      "needs_background": "light"
     },
     "output_type": "display_data"
    }
   ],
   "source": [
    "plt.subplots(figsize=(10,6)) \n",
    "sns.countplot(y = 'PaymentMethod', hue='Churn', data=df) "
   ]
  },
  {
   "cell_type": "code",
   "execution_count": 20,
   "id": "d97a52ee",
   "metadata": {},
   "outputs": [
    {
     "data": {
      "text/plain": [
       "<AxesSubplot:xlabel='PaymentMethod', ylabel='count'>"
      ]
     },
     "execution_count": 20,
     "metadata": {},
     "output_type": "execute_result"
    },
    {
     "data": {
      "image/png": "[encoded data removed]",
      "text/plain": [
       "<Figure size 720x432 with 1 Axes>"
      ]
     },
     "metadata": {
      "needs_background": "light"
     },
     "output_type": "display_data"
    }
   ],
   "source": [
    "plt.subplots(figsize=(10,6)) \n",
    "sns.countplot(x = 'PaymentMethod', hue='Churn', data=df) "
   ]
  },
  {
   "cell_type": "markdown",
   "id": "62814872",
   "metadata": {},
   "source": [
    "# Sectino 3: x, y Separation"
   ]
  },
  {
   "cell_type": "code",
   "execution_count": 21,
   "id": "b2f8e67d",
   "metadata": {},
   "outputs": [],
   "source": [
    "x = df.drop('Churn',axis=1) #separate dependent and independent variable\n",
    "y = df['Churn'] #  churn is class"
   ]
  },
  {
   "cell_type": "code",
   "execution_count": 22,
   "id": "06ab47a8",
   "metadata": {},
   "outputs": [
    {
     "data": {
      "text/plain": [
       "((5282, 20), (5282,))"
      ]
     },
     "execution_count": 22,
     "metadata": {},
     "output_type": "execute_result"
    }
   ],
   "source": [
    "x.shape, y.shape"
   ]
  },
  {
   "cell_type": "markdown",
   "id": "5d5fc35a",
   "metadata": {},
   "source": [
    "# Section 4: Imbalance Data Handling"
   ]
  },
  {
   "cell_type": "markdown",
   "id": "1e406752",
   "metadata": {},
   "source": [
    "I did all kinds of Sampling Here: `Original Data`, `SMOTETomek`, `NearMiss` and `RandomOverSampler`"
   ]
  },
  {
   "cell_type": "code",
   "execution_count": 23,
   "id": "490f287d",
   "metadata": {},
   "outputs": [
    {
     "data": {
      "text/plain": [
       "0    3892\n",
       "1    1390\n",
       "Name: Churn, dtype: int64"
      ]
     },
     "execution_count": 23,
     "metadata": {},
     "output_type": "execute_result"
    }
   ],
   "source": [
    "y.value_counts()"
   ]
  },
  {
   "cell_type": "markdown",
   "id": "61c84436",
   "metadata": {},
   "source": [
    "### Section 4.1: Synthetic Minority Oversampling Technique (SMOTETomek)"
   ]
  },
  {
   "cell_type": "code",
   "execution_count": 24,
   "id": "6e9278c8",
   "metadata": {},
   "outputs": [],
   "source": [
    "from imblearn.combine import SMOTETomek"
   ]
  },
  {
   "cell_type": "code",
   "execution_count": 25,
   "id": "2ad9e363",
   "metadata": {},
   "outputs": [],
   "source": [
    "sm = SMOTETomek(random_state = 42)"
   ]
  },
  {
   "cell_type": "code",
   "execution_count": 26,
   "id": "bf5c809e",
   "metadata": {},
   "outputs": [],
   "source": [
    "X_SMOT, Y_SMOT = sm.fit_resample(x, y)"
   ]
  },
  {
   "cell_type": "code",
   "execution_count": 27,
   "id": "092a2116",
   "metadata": {},
   "outputs": [
    {
     "data": {
      "text/plain": [
       "((5282, 20), (5282,), (7116, 20), (7116,))"
      ]
     },
     "execution_count": 27,
     "metadata": {},
     "output_type": "execute_result"
    }
   ],
   "source": [
    "x.shape, y.shape, X_SMOT.shape, Y_SMOT.shape"
   ]
  },
  {
   "cell_type": "code",
   "execution_count": 28,
   "id": "0e10ea07",
   "metadata": {},
   "outputs": [
    {
     "data": {
      "text/plain": [
       "(0    3892\n",
       " 1    1390\n",
       " Name: Churn, dtype: int64,\n",
       " 1    3558\n",
       " 0    3558\n",
       " Name: Churn, dtype: int64)"
      ]
     },
     "execution_count": 28,
     "metadata": {},
     "output_type": "execute_result"
    }
   ],
   "source": [
    "y.value_counts(), Y_SMOT.value_counts()"
   ]
  },
  {
   "cell_type": "markdown",
   "id": "2e13fff3",
   "metadata": {},
   "source": [
    "### Section 4.2: Near Miss for Under_Sampling"
   ]
  },
  {
   "cell_type": "code",
   "execution_count": 29,
   "id": "3d6d5b62",
   "metadata": {},
   "outputs": [],
   "source": [
    "from imblearn.under_sampling import NearMiss"
   ]
  },
  {
   "cell_type": "code",
   "execution_count": 30,
   "id": "abc5b070",
   "metadata": {},
   "outputs": [],
   "source": [
    "NearMiss_obj = NearMiss()\n",
    "X_nearMiss , Y_nearMiss = NearMiss_obj.fit_resample(x,y)"
   ]
  },
  {
   "cell_type": "code",
   "execution_count": 31,
   "id": "52425d86",
   "metadata": {},
   "outputs": [
    {
     "data": {
      "text/plain": [
       "((5282, 20), (5282,), (2780, 20), (2780,))"
      ]
     },
     "execution_count": 31,
     "metadata": {},
     "output_type": "execute_result"
    }
   ],
   "source": [
    "x.shape, y.shape, X_nearMiss.shape, Y_nearMiss.shape"
   ]
  },
  {
   "cell_type": "code",
   "execution_count": 32,
   "id": "1c9a3c1b",
   "metadata": {},
   "outputs": [
    {
     "data": {
      "text/plain": [
       "(0    3892\n",
       " 1    1390\n",
       " Name: Churn, dtype: int64,\n",
       " 0    1390\n",
       " 1    1390\n",
       " Name: Churn, dtype: int64)"
      ]
     },
     "execution_count": 32,
     "metadata": {},
     "output_type": "execute_result"
    }
   ],
   "source": [
    "y.value_counts(), Y_nearMiss.value_counts()"
   ]
  },
  {
   "cell_type": "markdown",
   "id": "fea578af",
   "metadata": {},
   "source": [
    "### Section 4.3: OverSampling"
   ]
  },
  {
   "cell_type": "code",
   "execution_count": 33,
   "id": "af6e5a81",
   "metadata": {},
   "outputs": [],
   "source": [
    "from imblearn.over_sampling import RandomOverSampler"
   ]
  },
  {
   "cell_type": "code",
   "execution_count": 34,
   "id": "07abaffd",
   "metadata": {},
   "outputs": [],
   "source": [
    "Over_Sampler_onj = RandomOverSampler(random_state = 100)\n",
    "X_RandomOver , Y_RandomOver = Over_Sampler_onj.fit_resample(x, y)"
   ]
  },
  {
   "cell_type": "code",
   "execution_count": 35,
   "id": "1cfd1f14",
   "metadata": {},
   "outputs": [
    {
     "data": {
      "text/plain": [
       "((5282, 20), (5282,), (7784, 20), (7784,))"
      ]
     },
     "execution_count": 35,
     "metadata": {},
     "output_type": "execute_result"
    }
   ],
   "source": [
    "x.shape, y.shape, X_RandomOver.shape, Y_RandomOver.shape"
   ]
  },
  {
   "cell_type": "code",
   "execution_count": 36,
   "id": "fc695539",
   "metadata": {},
   "outputs": [
    {
     "data": {
      "text/plain": [
       "(0    3892\n",
       " 1    1390\n",
       " Name: Churn, dtype: int64,\n",
       " 1    3892\n",
       " 0    3892\n",
       " Name: Churn, dtype: int64)"
      ]
     },
     "execution_count": 36,
     "metadata": {},
     "output_type": "execute_result"
    }
   ],
   "source": [
    "y.value_counts(), Y_RandomOver.value_counts()"
   ]
  },
  {
   "cell_type": "markdown",
   "id": "08878dab",
   "metadata": {},
   "source": [
    "# Section 5: Working on some ML Models\n",
    "1. Decision Tree\n",
    "2. XGBoost\n",
    "3. AdaBosst\n",
    "4. KNN Classifier\n",
    "5. LogisticRegression\n",
    "\n",
    "And Importing Those Model"
   ]
  },
  {
   "cell_type": "code",
   "execution_count": 37,
   "id": "010171ad",
   "metadata": {},
   "outputs": [],
   "source": [
    "from sklearn.tree import DecisionTreeClassifier\n",
    "from xgboost import XGBClassifier\n",
    "from sklearn.ensemble import AdaBoostClassifier\n",
    "from sklearn.neighbors import KNeighborsClassifier\n",
    "from sklearn.linear_model import LogisticRegression"
   ]
  },
  {
   "cell_type": "code",
   "execution_count": 38,
   "id": "96195c42",
   "metadata": {},
   "outputs": [],
   "source": [
    "AlgoList = ['Decision Tree', 'XGB', 'Adaboost', 'KNN', 'Logistic']"
   ]
  },
  {
   "cell_type": "markdown",
   "id": "2778aeb7",
   "metadata": {},
   "source": [
    "Currently, the Data are => \n",
    "1. Orignial (x, y),  \n",
    "2. SMOTETomek (X_SMOT, Y_SMOT), \n",
    "3. NearMiss (X_nearMiss , Y_nearMiss), \n",
    "4. RandomOverSampler (X_RandomOver , Y_RandomOver)"
   ]
  },
  {
   "cell_type": "code",
   "execution_count": 39,
   "id": "85d6745e",
   "metadata": {},
   "outputs": [],
   "source": [
    "from sklearn.model_selection import train_test_split \n",
    "x_train, x_test, y_train, y_test                                             = train_test_split(x, y, train_size = .75, random_state = 42) \n",
    "X_SMOT_train, X_SMOT_test, Y_SMOT_train, Y_SMOT_test                         = train_test_split(X_SMOT, Y_SMOT, train_size = .75, random_state = 42) \n",
    "X_nearMiss_train, X_nearMiss_test, Y_nearMiss_train, Y_nearMiss_test         = train_test_split(X_nearMiss , Y_nearMiss, train_size = .75, random_state = 42) \n",
    "X_RandomOver_train, X_RandomOver_test, Y_RandomOver_train, Y_RandomOver_test = train_test_split(X_RandomOver , Y_RandomOver, train_size = .75, random_state = 42) "
   ]
  },
  {
   "cell_type": "markdown",
   "id": "0c4c4767",
   "metadata": {},
   "source": [
    "# Section 6: Witout Cross Validation (With All Data)"
   ]
  },
  {
   "cell_type": "code",
   "execution_count": 40,
   "id": "662c7075",
   "metadata": {},
   "outputs": [],
   "source": [
    "# Score visualization helper function\n",
    "def GraphMaker(ClassifierList, AccuracyList):\n",
    "    print(\"Scores: \",AccuracyList)\n",
    "    data = {\n",
    "        'Algorithm Name': ClassifierList,\n",
    "        'Accuracy': AccuracyList\n",
    "    }\n",
    "    accuracy_df = pd.DataFrame(data, columns=['Algorithm Name', 'Accuracy'])\n",
    "    sns.set()\n",
    "    fig, ax = plt.subplots()\n",
    "    ax.set_xlim(0, 1)\n",
    "    sns.barplot(y = \"Algorithm Name\", x = \"Accuracy\", data = accuracy_df, palette=\"Set2\")"
   ]
  },
  {
   "cell_type": "markdown",
   "id": "cf7592ca",
   "metadata": {},
   "source": [
    "### Section 6.1: Before Sampling"
   ]
  },
  {
   "cell_type": "code",
   "execution_count": 41,
   "id": "eceb021d",
   "metadata": {},
   "outputs": [],
   "source": [
    "DecisionTree_BS = DecisionTreeClassifier() \n",
    "xgb_BS = XGBClassifier()\n",
    "adaboost_BS = AdaBoostClassifier()\n",
    "knn_BS = KNeighborsClassifier(n_neighbors = 10)\n",
    "Logistic_BS = LogisticRegression()"
   ]
  },
  {
   "cell_type": "code",
   "execution_count": 42,
   "id": "8e4fb91b",
   "metadata": {},
   "outputs": [
    {
     "data": {
      "text/html": [
       "<style>#sk-container-id-1 {color: black;background-color: white;}#sk-container-id-1 pre{padding: 0;}#sk-container-id-1 div.sk-toggleable {background-color: white;}#sk-container-id-1 label.sk-toggleable__label {cursor: pointer;display: block;width: 100%;margin-bottom: 0;padding: 0.3em;box-sizing: border-box;text-align: center;}#sk-container-id-1 label.sk-toggleable__label-arrow:before {content: \"▸\";float: left;margin-right: 0.25em;color: #696969;}#sk-container-id-1 label.sk-toggleable__label-arrow:hover:before {color: black;}#sk-container-id-1 div.sk-estimator:hover label.sk-toggleable__label-arrow:before {color: black;}#sk-container-id-1 div.sk-toggleable__content {max-height: 0;max-width: 0;overflow: hidden;text-align: left;background-color: #f0f8ff;}#sk-container-id-1 div.sk-toggleable__content pre {margin: 0.2em;color: black;border-radius: 0.25em;background-color: #f0f8ff;}#sk-container-id-1 input.sk-toggleable__control:checked~div.sk-toggleable__content {max-height: 200px;max-width: 100%;overflow: auto;}#sk-container-id-1 input.sk-toggleable__control:checked~label.sk-toggleable__label-arrow:before {content: \"▾\";}#sk-container-id-1 div.sk-estimator input.sk-toggleable__control:checked~label.sk-toggleable__label {background-color: #d4ebff;}#sk-container-id-1 div.sk-label input.sk-toggleable__control:checked~label.sk-toggleable__label {background-color: #d4ebff;}#sk-container-id-1 input.sk-hidden--visually {border: 0;clip: rect(1px 1px 1px 1px);clip: rect(1px, 1px, 1px, 1px);height: 1px;margin: -1px;overflow: hidden;padding: 0;position: absolute;width: 1px;}#sk-container-id-1 div.sk-estimator {font-family: monospace;background-color: #f0f8ff;border: 1px dotted black;border-radius: 0.25em;box-sizing: border-box;margin-bottom: 0.5em;}#sk-container-id-1 div.sk-estimator:hover {background-color: #d4ebff;}#sk-container-id-1 div.sk-parallel-item::after {content: \"\";width: 100%;border-bottom: 1px solid gray;flex-grow: 1;}#sk-container-id-1 div.sk-label:hover label.sk-toggleable__label {background-color: #d4ebff;}#sk-container-id-1 div.sk-serial::before {content: \"\";position: absolute;border-left: 1px solid gray;box-sizing: border-box;top: 0;bottom: 0;left: 50%;z-index: 0;}#sk-container-id-1 div.sk-serial {display: flex;flex-direction: column;align-items: center;background-color: white;padding-right: 0.2em;padding-left: 0.2em;position: relative;}#sk-container-id-1 div.sk-item {position: relative;z-index: 1;}#sk-container-id-1 div.sk-parallel {display: flex;align-items: stretch;justify-content: center;background-color: white;position: relative;}#sk-container-id-1 div.sk-item::before, #sk-container-id-1 div.sk-parallel-item::before {content: \"\";position: absolute;border-left: 1px solid gray;box-sizing: border-box;top: 0;bottom: 0;left: 50%;z-index: -1;}#sk-container-id-1 div.sk-parallel-item {display: flex;flex-direction: column;z-index: 1;position: relative;background-color: white;}#sk-container-id-1 div.sk-parallel-item:first-child::after {align-self: flex-end;width: 50%;}#sk-container-id-1 div.sk-parallel-item:last-child::after {align-self: flex-start;width: 50%;}#sk-container-id-1 div.sk-parallel-item:only-child::after {width: 0;}#sk-container-id-1 div.sk-dashed-wrapped {border: 1px dashed gray;margin: 0 0.4em 0.5em 0.4em;box-sizing: border-box;padding-bottom: 0.4em;background-color: white;}#sk-container-id-1 div.sk-label label {font-family: monospace;font-weight: bold;display: inline-block;line-height: 1.2em;}#sk-container-id-1 div.sk-label-container {text-align: center;}#sk-container-id-1 div.sk-container {/* jupyter's `normalize.less` sets `[hidden] { display: none; }` but bootstrap.min.css set `[hidden] { display: none !important; }` so we also need the `!important` here to be able to override the default hidden behavior on the sphinx rendered scikit-learn.org. See: https://github.com/scikit-learn/scikit-learn/issues/21755 */display: inline-block !important;position: relative;}#sk-container-id-1 div.sk-text-repr-fallback {display: none;}</style><div id=\"sk-container-id-1\" class=\"sk-top-container\"><div class=\"sk-text-repr-fallback\"><pre>LogisticRegression()</pre><b>In a Jupyter environment, please rerun this cell to show the HTML representation or trust the notebook. <br />On GitHub, the HTML representation is unable to render, please try loading this page with nbviewer.org.</b></div><div class=\"sk-container\" hidden><div class=\"sk-item\"><div class=\"sk-estimator sk-toggleable\"><input class=\"sk-toggleable__control sk-hidden--visually\" id=\"sk-estimator-id-1\" type=\"checkbox\" checked><label for=\"sk-estimator-id-1\" class=\"sk-toggleable__label sk-toggleable__label-arrow\">LogisticRegression</label><div class=\"sk-toggleable__content\"><pre>LogisticRegression()</pre></div></div></div></div></div>"
      ],
      "text/plain": [
       "LogisticRegression()"
      ]
     },
     "execution_count": 42,
     "metadata": {},
     "output_type": "execute_result"
    }
   ],
   "source": [
    "DecisionTree_BS.fit(x_train, y_train)\n",
    "xgb_BS.fit(x_train, y_train)\n",
    "adaboost_BS.fit(x_train, y_train)\n",
    "knn_BS.fit(x_train, y_train)\n",
    "Logistic_BS.fit(x_train, y_train)"
   ]
  },
  {
   "cell_type": "code",
   "execution_count": 43,
   "id": "43ea2dbb",
   "metadata": {},
   "outputs": [],
   "source": [
    "DecisionTree_BS_score = DecisionTree_BS.score(x_test, y_test)\n",
    "xgb_BS_score = xgb_BS.score(x_test, y_test)\n",
    "adaboost_BS_score = adaboost_BS.score(x_test, y_test)\n",
    "knn_BS_score = knn_BS.score(x_test, y_test)\n",
    "Logistic_BS_score = Logistic_BS.score(x_test, y_test)"
   ]
  },
  {
   "cell_type": "code",
   "execution_count": 44,
   "id": "fdb83d49",
   "metadata": {},
   "outputs": [
    {
     "name": "stdout",
     "output_type": "stream",
     "text": [
      "Scores:  [0.7191521574564723, 0.7797123391370174, 0.7880393641180924, 0.7176381529144588, 0.7857683573050719]\n"
     ]
    },
    {
     "data": {
      "image/png": "[encoded data removed]",
      "text/plain": [
       "<Figure size 432x288 with 1 Axes>"
      ]
     },
     "metadata": {},
     "output_type": "display_data"
    }
   ],
   "source": [
    "# Without CV & without Sampling\n",
    "GraphMaker(AlgoList, [DecisionTree_BS_score, xgb_BS_score, adaboost_BS_score, knn_BS_score, Logistic_BS_score])"
   ]
  },
  {
   "cell_type": "markdown",
   "id": "4b8dd3ea",
   "metadata": {},
   "source": [
    "### Section 6.2: After Sampling"
   ]
  },
  {
   "cell_type": "code",
   "execution_count": 45,
   "id": "8af5b2fa",
   "metadata": {},
   "outputs": [],
   "source": [
    "# smot\n",
    "DecisionTree_AS1 = DecisionTreeClassifier() \n",
    "xgb_AS1 = XGBClassifier()\n",
    "adaboost_AS1 = AdaBoostClassifier()\n",
    "knn_AS1 = KNeighborsClassifier(n_neighbors = 10)\n",
    "Logistic_AS1 = LogisticRegression()\n",
    "\n",
    "# near miss\n",
    "DecisionTree_AS2 = DecisionTreeClassifier() \n",
    "xgb_AS2 = XGBClassifier()\n",
    "adaboost_AS2 = AdaBoostClassifier()\n",
    "knn_AS2 = KNeighborsClassifier(n_neighbors = 10)\n",
    "Logistic_AS2 = LogisticRegression()\n",
    "\n",
    "# random over\n",
    "DecisionTree_AS3 = DecisionTreeClassifier() \n",
    "xgb_AS3 = XGBClassifier()\n",
    "adaboost_AS3 = AdaBoostClassifier()\n",
    "knn_AS3 = KNeighborsClassifier(n_neighbors = 10)\n",
    "Logistic_AS3 = LogisticRegression()"
   ]
  },
  {
   "cell_type": "code",
   "execution_count": 46,
   "id": "ae72841a",
   "metadata": {},
   "outputs": [],
   "source": [
    "# SMOT\n",
    "DecisionTree_AS_score1 = DecisionTree_BS.score(X_SMOT_test, Y_SMOT_test)\n",
    "xgb_AS_score1 = xgb_BS.score(X_SMOT_test, Y_SMOT_test)\n",
    "adaboost_AS_score1 = adaboost_BS.score(X_SMOT_test, Y_SMOT_test)\n",
    "knn_AS_score1 = knn_BS.score(X_SMOT_test, Y_SMOT_test)\n",
    "Logistic_AS_score1 = Logistic_BS.score(X_SMOT_test, Y_SMOT_test)\n",
    "\n",
    "# Near miss\n",
    "DecisionTree_AS_score2 = DecisionTree_BS.score(X_nearMiss_test, Y_nearMiss_test)\n",
    "xgb_AS_score2 = xgb_BS.score(X_nearMiss_test, Y_nearMiss_test)\n",
    "adaboost_AS_score2 = adaboost_BS.score(X_nearMiss_test, Y_nearMiss_test)\n",
    "knn_AS_score2 = knn_BS.score(X_nearMiss_test, Y_nearMiss_test)\n",
    "Logistic_AS_score2 = Logistic_BS.score(X_nearMiss_test, Y_nearMiss_test)\n",
    "\n",
    "# Random Over\n",
    "DecisionTree_AS_score3 = DecisionTree_BS.score(X_RandomOver_test, Y_RandomOver_test)\n",
    "xgb_AS_score3 = xgb_BS.score(X_RandomOver_test, Y_RandomOver_test)\n",
    "adaboost_AS_score3 = adaboost_BS.score(X_RandomOver_test, Y_RandomOver_test)\n",
    "knn_AS_score3 = knn_BS.score(X_RandomOver_test, Y_RandomOver_test)\n",
    "Logistic_AS_score3 = Logistic_BS.score(X_RandomOver_test, Y_RandomOver_test)"
   ]
  },
  {
   "cell_type": "code",
   "execution_count": 47,
   "id": "72db984a",
   "metadata": {},
   "outputs": [
    {
     "name": "stdout",
     "output_type": "stream",
     "text": [
      "Scores:  [0.8010118043844857, 0.8026981450252951, 0.6812816188870152, 0.537380550871276, 0.7391793142214728]\n"
     ]
    },
    {
     "data": {
      "image/png": "[encoded data removed]",
      "text/plain": [
       "<Figure size 432x288 with 1 Axes>"
      ]
     },
     "metadata": {},
     "output_type": "display_data"
    }
   ],
   "source": [
    "# Without CV & with Sampling: SMOT\n",
    "GraphMaker(AlgoList, [DecisionTree_AS_score1, xgb_AS_score1, adaboost_AS_score1, knn_AS_score1, Logistic_AS_score1])"
   ]
  },
  {
   "cell_type": "code",
   "execution_count": 48,
   "id": "6357e310",
   "metadata": {},
   "outputs": [
    {
     "name": "stdout",
     "output_type": "stream",
     "text": [
      "Scores:  [0.8848920863309353, 0.883453237410072, 0.7035971223021583, 0.497841726618705, 0.6949640287769784]\n"
     ]
    },
    {
     "data": {
      "image/png": "[encoded data removed]",
      "text/plain": [
       "<Figure size 432x288 with 1 Axes>"
      ]
     },
     "metadata": {},
     "output_type": "display_data"
    }
   ],
   "source": [
    "# Without CV & with Sampling: nearMiss\n",
    "GraphMaker(AlgoList, [DecisionTree_AS_score2, xgb_AS_score2, adaboost_AS_score2, knn_AS_score2, Logistic_AS_score2])"
   ]
  },
  {
   "cell_type": "code",
   "execution_count": 49,
   "id": "332aa857",
   "metadata": {},
   "outputs": [
    {
     "name": "stdout",
     "output_type": "stream",
     "text": [
      "Scores:  [0.8787255909558068, 0.8797533401849948, 0.7060637204522097, 0.5205549845837616, 0.7086330935251799]\n"
     ]
    },
    {
     "data": {
      "image/png": "[encoded data removed]",
      "text/plain": [
       "<Figure size 432x288 with 1 Axes>"
      ]
     },
     "metadata": {},
     "output_type": "display_data"
    }
   ],
   "source": [
    "# Without CV & with Sampling: Random Over\n",
    "GraphMaker(AlgoList, [DecisionTree_AS_score3, xgb_AS_score3, adaboost_AS_score3, knn_AS_score3, Logistic_AS_score3])"
   ]
  },
  {
   "cell_type": "markdown",
   "id": "e2119fb9",
   "metadata": {},
   "source": [
    "# Section 7: With Cross Validation (With All Data)"
   ]
  },
  {
   "cell_type": "markdown",
   "id": "791eefd5",
   "metadata": {},
   "source": [
    "1. `holdout` (kori nai), \n",
    "2. `k-fold`, \n",
    "3. `statified k fold`, \n",
    "4. `leave one out`"
   ]
  },
  {
   "cell_type": "code",
   "execution_count": 50,
   "id": "c186a5c4",
   "metadata": {},
   "outputs": [],
   "source": [
    "from sklearn.model_selection import KFold, cross_val_score, cross_validate"
   ]
  },
  {
   "cell_type": "markdown",
   "id": "d6dffcf7",
   "metadata": {},
   "source": [
    "### Section 7.1: Before Sampling"
   ]
  },
  {
   "cell_type": "code",
   "execution_count": 51,
   "id": "8cee9367",
   "metadata": {},
   "outputs": [],
   "source": [
    "DecisionTree = DecisionTreeClassifier() \n",
    "xgb = XGBClassifier()\n",
    "adaboost = AdaBoostClassifier()\n",
    "knn = KNeighborsClassifier(n_neighbors = 10)\n",
    "Logistic = LogisticRegression()"
   ]
  },
  {
   "cell_type": "markdown",
   "id": "e1594fd6",
   "metadata": {},
   "source": [
    "#### Section 7.1.1: k-fold"
   ]
  },
  {
   "cell_type": "code",
   "execution_count": 52,
   "id": "14231103",
   "metadata": {},
   "outputs": [],
   "source": [
    "kfold = KFold(n_splits = 4)\n",
    "result1 = cross_val_score(DecisionTree, x, y, cv = kfold) \n",
    "result2 = cross_val_score(xgb, x, y, cv = kfold) \n",
    "result3 = cross_val_score(adaboost, x, y, cv = kfold) \n",
    "result4 = cross_val_score(knn, x, y, cv = kfold) \n",
    "result5 = cross_val_score(Logistic, x, y, cv = kfold) "
   ]
  },
  {
   "cell_type": "code",
   "execution_count": 53,
   "id": "922eed84",
   "metadata": {},
   "outputs": [
    {
     "data": {
      "text/plain": [
       "(array([0.70325511, 0.69417108, 0.73560606, 0.73030303]),\n",
       " array([0.77744133, 0.75700227, 0.79393939, 0.78257576]),\n",
       " array([0.7986374 , 0.77214232, 0.80530303, 0.7969697 ]),\n",
       " array([0.7327782 , 0.71461014, 0.73106061, 0.73030303]),\n",
       " array([0.80545042, 0.77971234, 0.78484848, 0.80681818]))"
      ]
     },
     "execution_count": 53,
     "metadata": {},
     "output_type": "execute_result"
    }
   ],
   "source": [
    "result1, result2, result3, result4, result5"
   ]
  },
  {
   "cell_type": "code",
   "execution_count": 54,
   "id": "7f15229b",
   "metadata": {},
   "outputs": [
    {
     "data": {
      "text/plain": [
       "(0.7356060606060606,\n",
       " 0.793939393939394,\n",
       " 0.8053030303030303,\n",
       " 0.732778198334595,\n",
       " 0.8068181818181818)"
      ]
     },
     "execution_count": 54,
     "metadata": {},
     "output_type": "execute_result"
    }
   ],
   "source": [
    "result1.max(), result2.max(), result3.max(), result4.max(), result5.max()"
   ]
  },
  {
   "cell_type": "code",
   "execution_count": 55,
   "id": "414fb907",
   "metadata": {},
   "outputs": [
    {
     "data": {
      "text/plain": [
       "(0.6941710825132476,\n",
       " 0.757002271006813,\n",
       " 0.7721423164269493,\n",
       " 0.7146101438304315,\n",
       " 0.7797123391370174)"
      ]
     },
     "execution_count": 55,
     "metadata": {},
     "output_type": "execute_result"
    }
   ],
   "source": [
    "result1.min(), result2.min(), result3.min(), result4.min(), result5.min()"
   ]
  },
  {
   "cell_type": "code",
   "execution_count": 56,
   "id": "24a65c20",
   "metadata": {},
   "outputs": [
    {
     "data": {
      "text/plain": [
       "(0.715833820796917,\n",
       " 0.7777396887114904,\n",
       " 0.793263109902966,\n",
       " 0.7271879946321658,\n",
       " 0.7942073555387332)"
      ]
     },
     "execution_count": 56,
     "metadata": {},
     "output_type": "execute_result"
    }
   ],
   "source": [
    "result1.mean(), result2.mean(), result3.mean(), result4.mean(), result5.mean()"
   ]
  },
  {
   "cell_type": "code",
   "execution_count": 57,
   "id": "e118684e",
   "metadata": {},
   "outputs": [
    {
     "name": "stdout",
     "output_type": "stream",
     "text": [
      "Scores:  [0.715833820796917, 0.7777396887114904, 0.793263109902966, 0.7271879946321658, 0.7942073555387332]\n"
     ]
    },
    {
     "data": {
      "image/png": "[encoded data removed]",
      "text/plain": [
       "<Figure size 432x288 with 1 Axes>"
      ]
     },
     "metadata": {},
     "output_type": "display_data"
    }
   ],
   "source": [
    "GraphMaker(AlgoList, [result1.mean(), result2.mean(), result3.mean(), result4.mean(), result5.mean()])"
   ]
  },
  {
   "cell_type": "markdown",
   "id": "06e79dea",
   "metadata": {},
   "source": [
    "#### Section 7.1.2: Statified K-Fold"
   ]
  },
  {
   "cell_type": "code",
   "execution_count": 58,
   "id": "0c41d6d2",
   "metadata": {},
   "outputs": [],
   "source": [
    "from sklearn.model_selection import StratifiedKFold"
   ]
  },
  {
   "cell_type": "code",
   "execution_count": 59,
   "id": "422e57e0",
   "metadata": {},
   "outputs": [],
   "source": [
    "st_kfold = StratifiedKFold(n_splits = 4)\n",
    "result1 = cross_val_score(DecisionTree, x, y, cv = st_kfold) \n",
    "result2 = cross_val_score(xgb, x, y, cv = st_kfold) \n",
    "result3 = cross_val_score(adaboost, x, y, cv = st_kfold) \n",
    "result4 = cross_val_score(knn, x, y, cv = st_kfold) \n",
    "result5 = cross_val_score(Logistic, x, y, cv = st_kfold) "
   ]
  },
  {
   "cell_type": "code",
   "execution_count": 60,
   "id": "e697b0ea",
   "metadata": {},
   "outputs": [
    {
     "data": {
      "text/plain": [
       "(array([0.6994701 , 0.70401211, 0.73636364, 0.73257576]),\n",
       " array([0.77895534, 0.76154428, 0.78409091, 0.78030303]),\n",
       " array([0.79106737, 0.78425435, 0.80075758, 0.79621212]),\n",
       " array([0.72672218, 0.7335352 , 0.72878788, 0.72424242]),\n",
       " array([0.8016654 , 0.78803936, 0.78560606, 0.8030303 ]))"
      ]
     },
     "execution_count": 60,
     "metadata": {},
     "output_type": "execute_result"
    }
   ],
   "source": [
    "result1, result2, result3, result4, result5"
   ]
  },
  {
   "cell_type": "code",
   "execution_count": 61,
   "id": "94c56097",
   "metadata": {},
   "outputs": [
    {
     "data": {
      "text/plain": [
       "(0.7363636363636363,\n",
       " 0.7840909090909091,\n",
       " 0.8007575757575758,\n",
       " 0.7335352006056018,\n",
       " 0.803030303030303)"
      ]
     },
     "execution_count": 61,
     "metadata": {},
     "output_type": "execute_result"
    }
   ],
   "source": [
    "result1.max(), result2.max(), result3.max(), result4.max(), result5.max()"
   ]
  },
  {
   "cell_type": "code",
   "execution_count": 62,
   "id": "85f4a8f0",
   "metadata": {},
   "outputs": [
    {
     "data": {
      "text/plain": [
       "(0.6994700984102953,\n",
       " 0.761544284632854,\n",
       " 0.7842543527630583,\n",
       " 0.7242424242424242,\n",
       " 0.7856060606060606)"
      ]
     },
     "execution_count": 62,
     "metadata": {},
     "output_type": "execute_result"
    }
   ],
   "source": [
    "result1.min(), result2.min(), result3.min(), result4.min(), result5.min()"
   ]
  },
  {
   "cell_type": "code",
   "execution_count": 63,
   "id": "2c227283",
   "metadata": {},
   "outputs": [
    {
     "data": {
      "text/plain": [
       "(0.7181054010965062,\n",
       " 0.776223390223201,\n",
       " 0.7930728557337188,\n",
       " 0.7283219209506113,\n",
       " 0.7945852831876676)"
      ]
     },
     "execution_count": 63,
     "metadata": {},
     "output_type": "execute_result"
    }
   ],
   "source": [
    "result1.mean(), result2.mean(), result3.mean(), result4.mean(), result5.mean()"
   ]
  },
  {
   "cell_type": "code",
   "execution_count": 64,
   "id": "c26c8bfd",
   "metadata": {},
   "outputs": [
    {
     "name": "stdout",
     "output_type": "stream",
     "text": [
      "Scores:  [0.7181054010965062, 0.776223390223201, 0.7930728557337188, 0.7283219209506113, 0.7945852831876676]\n"
     ]
    },
    {
     "data": {
      "image/png": "[encoded data removed]",
      "text/plain": [
       "<Figure size 432x288 with 1 Axes>"
      ]
     },
     "metadata": {},
     "output_type": "display_data"
    }
   ],
   "source": [
    "GraphMaker(AlgoList, [result1.mean(), result2.mean(), result3.mean(), result4.mean(), result5.mean()])"
   ]
  },
  {
   "cell_type": "markdown",
   "id": "5d721942",
   "metadata": {},
   "source": [
    "#### Section 7.1.3: Leave One Out Cross Validation"
   ]
  },
  {
   "cell_type": "markdown",
   "id": "82fc5855",
   "metadata": {},
   "source": [
    "It takes huge time: and I commented these code"
   ]
  },
  {
   "cell_type": "code",
   "execution_count": 65,
   "id": "35d3a0f8",
   "metadata": {},
   "outputs": [],
   "source": [
    "from sklearn.model_selection import LeaveOneOut"
   ]
  },
  {
   "cell_type": "code",
   "execution_count": 66,
   "id": "4a3359fb",
   "metadata": {},
   "outputs": [],
   "source": [
    "# le = LeaveOneOut()\n",
    "# result1 = cross_val_score(DecisionTree, x, y, cv = le) \n",
    "# print(\"Done 1\")\n",
    "# result2 = cross_val_score(xgb, x, y, cv = le) \n",
    "# print(\"Done 2\")\n",
    "# result3 = cross_val_score(adaboost, x, y, cv = le) \n",
    "# print(\"Done 3\")\n",
    "# result4 = cross_val_score(knn, x, y, cv = le) \n",
    "# print(\"Done 4\")\n",
    "# result5 = cross_val_score(Logistic, x, y, cv = le) \n",
    "# print(\"Done 5\")"
   ]
  },
  {
   "cell_type": "code",
   "execution_count": 67,
   "id": "3c8d5df2",
   "metadata": {},
   "outputs": [],
   "source": [
    "# result1, result2, result3, result4, result5"
   ]
  },
  {
   "cell_type": "code",
   "execution_count": 68,
   "id": "74d65c6e",
   "metadata": {},
   "outputs": [],
   "source": [
    "# result1.max(), result2.max(), result3.max(), result4.max(), result5.max()"
   ]
  },
  {
   "cell_type": "code",
   "execution_count": 69,
   "id": "469b80bc",
   "metadata": {},
   "outputs": [],
   "source": [
    "# result1.min(), result2.min(), result3.min(), result4.min(), result5.min()"
   ]
  },
  {
   "cell_type": "code",
   "execution_count": 70,
   "id": "201f14de",
   "metadata": {},
   "outputs": [],
   "source": [
    "# result1.mean(), result2.mean(), result3.mean(), result4.mean(), result5.mean()"
   ]
  },
  {
   "cell_type": "code",
   "execution_count": 71,
   "id": "a6d4bb42",
   "metadata": {},
   "outputs": [],
   "source": [
    "# GraphMaker(AlgoList, [result1.mean(), result2.mean(), result3.mean(), result4.mean(), result5.mean()])"
   ]
  },
  {
   "cell_type": "markdown",
   "id": "c1bc0ca0",
   "metadata": {},
   "source": [
    "### Section 7.2: After Sampling"
   ]
  },
  {
   "cell_type": "markdown",
   "id": "4381f2c6",
   "metadata": {},
   "source": [
    "##### Section 7.2.1: K-fold"
   ]
  },
  {
   "cell_type": "markdown",
   "id": "e30b1b7e",
   "metadata": {},
   "source": [
    "###### Section 7.2.1.1: SMOT"
   ]
  },
  {
   "cell_type": "code",
   "execution_count": 72,
   "id": "b06e67c3",
   "metadata": {},
   "outputs": [],
   "source": [
    "kfold = KFold(n_splits = 4)\n",
    "result1 = cross_val_score(DecisionTree, X_SMOT, Y_SMOT, cv = kfold) \n",
    "result2 = cross_val_score(xgb, X_SMOT, Y_SMOT, cv = kfold) \n",
    "result3 = cross_val_score(adaboost, X_SMOT, Y_SMOT, cv = kfold) \n",
    "result4 = cross_val_score(knn, X_SMOT, Y_SMOT, cv = kfold) \n",
    "result5 = cross_val_score(Logistic, X_SMOT, Y_SMOT, cv = kfold) "
   ]
  },
  {
   "cell_type": "code",
   "execution_count": 73,
   "id": "e697b0ea",
   "metadata": {},
   "outputs": [
    {
     "data": {
      "text/plain": [
       "(array([0.72793704, 0.72287802, 0.77459247, 0.82686903]),\n",
       " array([0.80775717, 0.78077572, 0.85666105, 0.95784148]),\n",
       " array([0.76166386, 0.74761102, 0.83024171, 0.86059584]),\n",
       " array([0.54918494, 0.56661046, 0.64193367, 0.35132097]),\n",
       " array([0.73749297, 0.74423834, 0.81169196, 0.79426644]))"
      ]
     },
     "execution_count": 73,
     "metadata": {},
     "output_type": "execute_result"
    }
   ],
   "source": [
    "result1, result2, result3, result4, result5"
   ]
  },
  {
   "cell_type": "code",
   "execution_count": 74,
   "id": "94c56097",
   "metadata": {},
   "outputs": [
    {
     "data": {
      "text/plain": [
       "(0.8268690275435638,\n",
       " 0.9578414839797639,\n",
       " 0.8605958403597527,\n",
       " 0.6419336706014614,\n",
       " 0.8116919617762788)"
      ]
     },
     "execution_count": 74,
     "metadata": {},
     "output_type": "execute_result"
    }
   ],
   "source": [
    "result1.max(), result2.max(), result3.max(), result4.max(), result5.max()"
   ]
  },
  {
   "cell_type": "code",
   "execution_count": 75,
   "id": "85f4a8f0",
   "metadata": {},
   "outputs": [
    {
     "data": {
      "text/plain": [
       "(0.7228780213603148,\n",
       " 0.7807757166947723,\n",
       " 0.7476110174255199,\n",
       " 0.35132096683530073,\n",
       " 0.7374929735806633)"
      ]
     },
     "execution_count": 75,
     "metadata": {},
     "output_type": "execute_result"
    }
   ],
   "source": [
    "result1.min(), result2.min(), result3.min(), result4.min(), result5.min()"
   ]
  },
  {
   "cell_type": "code",
   "execution_count": 76,
   "id": "2c227283",
   "metadata": {},
   "outputs": [
    {
     "data": {
      "text/plain": [
       "(0.7630691399662731,\n",
       " 0.8507588532883643,\n",
       " 0.8000281056773468,\n",
       " 0.5272625070264193,\n",
       " 0.7719224283305228)"
      ]
     },
     "execution_count": 76,
     "metadata": {},
     "output_type": "execute_result"
    }
   ],
   "source": [
    "result1.mean(), result2.mean(), result3.mean(), result4.mean(), result5.mean()"
   ]
  },
  {
   "cell_type": "code",
   "execution_count": 77,
   "id": "c26c8bfd",
   "metadata": {},
   "outputs": [
    {
     "name": "stdout",
     "output_type": "stream",
     "text": [
      "Scores:  [0.7630691399662731, 0.8507588532883643, 0.8000281056773468, 0.5272625070264193, 0.7719224283305228]\n"
     ]
    },
    {
     "data": {
      "image/png": "[encoded data removed]",
      "text/plain": [
       "<Figure size 432x288 with 1 Axes>"
      ]
     },
     "metadata": {},
     "output_type": "display_data"
    }
   ],
   "source": [
    "GraphMaker(AlgoList, [result1.mean(), result2.mean(), result3.mean(), result4.mean(), result5.mean()])"
   ]
  },
  {
   "cell_type": "markdown",
   "id": "d59dcfa6",
   "metadata": {},
   "source": [
    "###### Section 7.2.1.2: Near Miss"
   ]
  },
  {
   "cell_type": "code",
   "execution_count": 78,
   "id": "490ecc4f",
   "metadata": {},
   "outputs": [],
   "source": [
    "kfold = KFold(n_splits = 4)\n",
    "result1 = cross_val_score(DecisionTree, X_nearMiss, Y_nearMiss, cv = kfold) \n",
    "result2 = cross_val_score(xgb, X_nearMiss, Y_nearMiss, cv = kfold) \n",
    "result3 = cross_val_score(adaboost, X_nearMiss, Y_nearMiss, cv = kfold) \n",
    "result4 = cross_val_score(knn, X_nearMiss, Y_nearMiss, cv = kfold) \n",
    "result5 = cross_val_score(Logistic, X_nearMiss, Y_nearMiss, cv = kfold) "
   ]
  },
  {
   "cell_type": "code",
   "execution_count": 79,
   "id": "e697b0ea",
   "metadata": {},
   "outputs": [
    {
     "data": {
      "text/plain": [
       "(array([0.51942446, 0.51798561, 0.51942446, 0.51654676]),\n",
       " array([0.48920863, 0.54964029, 0.54676259, 0.5323741 ]),\n",
       " array([0.48633094, 0.57266187, 0.59136691, 0.57266187]),\n",
       " array([0.20143885, 0.20143885, 0.03309353, 0.03309353]),\n",
       " array([0.48201439, 0.54964029, 0.61438849, 0.58561151]))"
      ]
     },
     "execution_count": 79,
     "metadata": {},
     "output_type": "execute_result"
    }
   ],
   "source": [
    "result1, result2, result3, result4, result5"
   ]
  },
  {
   "cell_type": "code",
   "execution_count": 80,
   "id": "94c56097",
   "metadata": {},
   "outputs": [
    {
     "data": {
      "text/plain": [
       "(0.5194244604316547,\n",
       " 0.5496402877697841,\n",
       " 0.5913669064748202,\n",
       " 0.2014388489208633,\n",
       " 0.6143884892086331)"
      ]
     },
     "execution_count": 80,
     "metadata": {},
     "output_type": "execute_result"
    }
   ],
   "source": [
    "result1.max(), result2.max(), result3.max(), result4.max(), result5.max()"
   ]
  },
  {
   "cell_type": "code",
   "execution_count": 81,
   "id": "85f4a8f0",
   "metadata": {},
   "outputs": [
    {
     "data": {
      "text/plain": [
       "(0.516546762589928,\n",
       " 0.4892086330935252,\n",
       " 0.48633093525179855,\n",
       " 0.033093525179856115,\n",
       " 0.48201438848920863)"
      ]
     },
     "execution_count": 81,
     "metadata": {},
     "output_type": "execute_result"
    }
   ],
   "source": [
    "result1.min(), result2.min(), result3.min(), result4.min(), result5.min()"
   ]
  },
  {
   "cell_type": "code",
   "execution_count": 82,
   "id": "2c227283",
   "metadata": {},
   "outputs": [
    {
     "data": {
      "text/plain": [
       "(0.5183453237410072,\n",
       " 0.5294964028776978,\n",
       " 0.5557553956834532,\n",
       " 0.11726618705035971,\n",
       " 0.5579136690647482)"
      ]
     },
     "execution_count": 82,
     "metadata": {},
     "output_type": "execute_result"
    }
   ],
   "source": [
    "result1.mean(), result2.mean(), result3.mean(), result4.mean(), result5.mean()"
   ]
  },
  {
   "cell_type": "code",
   "execution_count": 83,
   "id": "c26c8bfd",
   "metadata": {},
   "outputs": [
    {
     "name": "stdout",
     "output_type": "stream",
     "text": [
      "Scores:  [0.5183453237410072, 0.5294964028776978, 0.5557553956834532, 0.11726618705035971, 0.5579136690647482]\n"
     ]
    },
    {
     "data": {
      "image/png": "[encoded data removed]",
      "text/plain": [
       "<Figure size 432x288 with 1 Axes>"
      ]
     },
     "metadata": {},
     "output_type": "display_data"
    }
   ],
   "source": [
    "GraphMaker(AlgoList, [result1.mean(), result2.mean(), result3.mean(), result4.mean(), result5.mean()])"
   ]
  },
  {
   "cell_type": "markdown",
   "id": "5e75d684",
   "metadata": {},
   "source": [
    "###### Section 7.2.1.3: Random Over"
   ]
  },
  {
   "cell_type": "code",
   "execution_count": 93,
   "id": "490ecc4f",
   "metadata": {},
   "outputs": [],
   "source": [
    "kfold = KFold(n_splits = 4)\n",
    "result1 = cross_val_score(DecisionTree, X_RandomOver, Y_RandomOver, cv = kfold) \n",
    "result2 = cross_val_score(xgb, X_RandomOver, Y_RandomOver, cv = kfold) \n",
    "result3 = cross_val_score(adaboost, X_RandomOver, Y_RandomOver, cv = kfold) \n",
    "result4 = cross_val_score(knn, X_RandomOver, Y_RandomOver, cv = kfold) \n",
    "result5 = cross_val_score(Logistic, X_RandomOver, Y_RandomOver, cv = kfold) "
   ]
  },
  {
   "cell_type": "code",
   "execution_count": 94,
   "id": "e697b0ea",
   "metadata": {},
   "outputs": [
    {
     "data": {
      "text/plain": [
       "(array([0.8016444 , 0.81654676, 0.85097636, 1.        ]),\n",
       " array([0.81757451, 0.80729702, 0.86690647, 0.9331963 ]),\n",
       " array([0.71120247, 0.71274409, 0.76258993, 0.63463515]),\n",
       " array([0.51695786, 0.54984584, 0.57913669, 0.23381295]),\n",
       " array([0.70554985, 0.70966084, 0.76464543, 0.64491264]))"
      ]
     },
     "execution_count": 94,
     "metadata": {},
     "output_type": "execute_result"
    }
   ],
   "source": [
    "result1, result2, result3, result4, result5"
   ]
  },
  {
   "cell_type": "code",
   "execution_count": 95,
   "id": "94c56097",
   "metadata": {},
   "outputs": [
    {
     "data": {
      "text/plain": [
       "(1.0,\n",
       " 0.9331963001027749,\n",
       " 0.762589928057554,\n",
       " 0.579136690647482,\n",
       " 0.7646454265159301)"
      ]
     },
     "execution_count": 95,
     "metadata": {},
     "output_type": "execute_result"
    }
   ],
   "source": [
    "result1.max(), result2.max(), result3.max(), result4.max(), result5.max()"
   ]
  },
  {
   "cell_type": "code",
   "execution_count": 96,
   "id": "85f4a8f0",
   "metadata": {},
   "outputs": [
    {
     "data": {
      "text/plain": [
       "(0.8016443987667009,\n",
       " 0.8072970195272353,\n",
       " 0.6346351490236383,\n",
       " 0.23381294964028776,\n",
       " 0.6449126413155191)"
      ]
     },
     "execution_count": 96,
     "metadata": {},
     "output_type": "execute_result"
    }
   ],
   "source": [
    "result1.min(), result2.min(), result3.min(), result4.min(), result5.min()"
   ]
  },
  {
   "cell_type": "code",
   "execution_count": 97,
   "id": "2c227283",
   "metadata": {},
   "outputs": [
    {
     "data": {
      "text/plain": [
       "(0.8672918807810894,\n",
       " 0.8562435765673175,\n",
       " 0.7052929085303186,\n",
       " 0.4699383350462487,\n",
       " 0.7061921891058581)"
      ]
     },
     "execution_count": 97,
     "metadata": {},
     "output_type": "execute_result"
    }
   ],
   "source": [
    "result1.mean(), result2.mean(), result3.mean(), result4.mean(), result5.mean()"
   ]
  },
  {
   "cell_type": "code",
   "execution_count": 98,
   "id": "c26c8bfd",
   "metadata": {},
   "outputs": [
    {
     "name": "stdout",
     "output_type": "stream",
     "text": [
      "Scores:  [0.8672918807810894, 0.8562435765673175, 0.7052929085303186, 0.4699383350462487, 0.7061921891058581]\n"
     ]
    },
    {
     "data": {
      "image/png": "[encoded data removed]",
      "text/plain": [
       "<Figure size 432x288 with 1 Axes>"
      ]
     },
     "metadata": {},
     "output_type": "display_data"
    }
   ],
   "source": [
    "GraphMaker(AlgoList, [result1.mean(), result2.mean(), result3.mean(), result4.mean(), result5.mean()])"
   ]
  },
  {
   "cell_type": "markdown",
   "id": "f3d04553",
   "metadata": {},
   "source": [
    "##### Section 7.2.2: Statified K-Fold"
   ]
  },
  {
   "cell_type": "markdown",
   "id": "13328825",
   "metadata": {},
   "source": [
    "###### Section 7.2.2.1: SMOT"
   ]
  },
  {
   "cell_type": "code",
   "execution_count": 99,
   "id": "b06e67c3",
   "metadata": {},
   "outputs": [],
   "source": [
    "st_kfold = StratifiedKFold(n_splits = 4)\n",
    "result1 = cross_val_score(DecisionTree, X_SMOT, Y_SMOT, cv = st_kfold) \n",
    "result2 = cross_val_score(xgb, X_SMOT, Y_SMOT, cv = st_kfold) \n",
    "result3 = cross_val_score(adaboost, X_SMOT, Y_SMOT, cv = st_kfold) \n",
    "result4 = cross_val_score(knn, X_SMOT, Y_SMOT, cv = st_kfold) \n",
    "result5 = cross_val_score(Logistic, X_SMOT, Y_SMOT, cv = st_kfold) "
   ]
  },
  {
   "cell_type": "code",
   "execution_count": 100,
   "id": "e697b0ea",
   "metadata": {},
   "outputs": [
    {
     "data": {
      "text/plain": [
       "(array([0.66498033, 0.78864531, 0.84148398, 0.85328836]),\n",
       " array([0.67903316, 0.84373243, 0.89544688, 0.91174817]),\n",
       " array([0.7054525 , 0.8381113 , 0.86677909, 0.87015177]),\n",
       " array([0.63406408, 0.63237774, 0.67678471, 0.65767285]),\n",
       " array([0.72681282, 0.81225408, 0.83305228, 0.84766723]))"
      ]
     },
     "execution_count": 100,
     "metadata": {},
     "output_type": "execute_result"
    }
   ],
   "source": [
    "result1, result2, result3, result4, result5"
   ]
  },
  {
   "cell_type": "code",
   "execution_count": 101,
   "id": "94c56097",
   "metadata": {},
   "outputs": [
    {
     "data": {
      "text/plain": [
       "(0.8532883642495784,\n",
       " 0.9117481731309725,\n",
       " 0.8701517706576728,\n",
       " 0.6767847105115233,\n",
       " 0.8476672287802136)"
      ]
     },
     "execution_count": 101,
     "metadata": {},
     "output_type": "execute_result"
    }
   ],
   "source": [
    "result1.max(), result2.max(), result3.max(), result4.max(), result5.max()"
   ]
  },
  {
   "cell_type": "code",
   "execution_count": 102,
   "id": "85f4a8f0",
   "metadata": {},
   "outputs": [
    {
     "data": {
      "text/plain": [
       "(0.6649803260258572,\n",
       " 0.6790331646992692,\n",
       " 0.7054525014052838,\n",
       " 0.6323777403035413,\n",
       " 0.7268128161888702)"
      ]
     },
     "execution_count": 102,
     "metadata": {},
     "output_type": "execute_result"
    }
   ],
   "source": [
    "result1.min(), result2.min(), result3.min(), result4.min(), result5.min()"
   ]
  },
  {
   "cell_type": "code",
   "execution_count": 103,
   "id": "2c227283",
   "metadata": {},
   "outputs": [
    {
     "data": {
      "text/plain": [
       "(0.7870994940978078,\n",
       " 0.8324901630129286,\n",
       " 0.820123664980326,\n",
       " 0.6502248454187746,\n",
       " 0.8049465992130411)"
      ]
     },
     "execution_count": 103,
     "metadata": {},
     "output_type": "execute_result"
    }
   ],
   "source": [
    "result1.mean(), result2.mean(), result3.mean(), result4.mean(), result5.mean()"
   ]
  },
  {
   "cell_type": "code",
   "execution_count": 104,
   "id": "c26c8bfd",
   "metadata": {},
   "outputs": [
    {
     "name": "stdout",
     "output_type": "stream",
     "text": [
      "Scores:  [0.7870994940978078, 0.8324901630129286, 0.820123664980326, 0.6502248454187746, 0.8049465992130411]\n"
     ]
    },
    {
     "data": {
      "image/png": "[encoded data removed]",
      "text/plain": [
       "<Figure size 432x288 with 1 Axes>"
      ]
     },
     "metadata": {},
     "output_type": "display_data"
    }
   ],
   "source": [
    "GraphMaker(AlgoList, [result1.mean(), result2.mean(), result3.mean(), result4.mean(), result5.mean()])"
   ]
  },
  {
   "cell_type": "markdown",
   "id": "bc42d927",
   "metadata": {},
   "source": [
    "###### Section 7.2.2.2: nearMiss"
   ]
  },
  {
   "cell_type": "code",
   "execution_count": 105,
   "id": "b06e67c3",
   "metadata": {},
   "outputs": [],
   "source": [
    "st_kfold = StratifiedKFold(n_splits = 4)\n",
    "result1 = cross_val_score(DecisionTree, X_SMOT, Y_SMOT, cv = st_kfold) \n",
    "result2 = cross_val_score(xgb, X_SMOT, Y_SMOT, cv = st_kfold) \n",
    "result3 = cross_val_score(adaboost, X_SMOT, Y_SMOT, cv = st_kfold) \n",
    "result4 = cross_val_score(knn, X_SMOT, Y_SMOT, cv = st_kfold) \n",
    "result5 = cross_val_score(Logistic, X_SMOT, Y_SMOT, cv = st_kfold) "
   ]
  },
  {
   "cell_type": "code",
   "execution_count": 106,
   "id": "e697b0ea",
   "metadata": {},
   "outputs": [
    {
     "data": {
      "text/plain": [
       "(array([0.66554244, 0.77852726, 0.84204609, 0.84991568]),\n",
       " array([0.67903316, 0.84373243, 0.89544688, 0.91174817]),\n",
       " array([0.7054525 , 0.8381113 , 0.86677909, 0.87015177]),\n",
       " array([0.63406408, 0.63237774, 0.67678471, 0.65767285]),\n",
       " array([0.72681282, 0.81225408, 0.83305228, 0.84766723]))"
      ]
     },
     "execution_count": 106,
     "metadata": {},
     "output_type": "execute_result"
    }
   ],
   "source": [
    "result1, result2, result3, result4, result5"
   ]
  },
  {
   "cell_type": "code",
   "execution_count": 107,
   "id": "94c56097",
   "metadata": {},
   "outputs": [
    {
     "data": {
      "text/plain": [
       "(0.8499156829679595,\n",
       " 0.9117481731309725,\n",
       " 0.8701517706576728,\n",
       " 0.6767847105115233,\n",
       " 0.8476672287802136)"
      ]
     },
     "execution_count": 107,
     "metadata": {},
     "output_type": "execute_result"
    }
   ],
   "source": [
    "result1.max(), result2.max(), result3.max(), result4.max(), result5.max()"
   ]
  },
  {
   "cell_type": "code",
   "execution_count": 108,
   "id": "85f4a8f0",
   "metadata": {},
   "outputs": [
    {
     "data": {
      "text/plain": [
       "(0.6655424395727937,\n",
       " 0.6790331646992692,\n",
       " 0.7054525014052838,\n",
       " 0.6323777403035413,\n",
       " 0.7268128161888702)"
      ]
     },
     "execution_count": 108,
     "metadata": {},
     "output_type": "execute_result"
    }
   ],
   "source": [
    "result1.min(), result2.min(), result3.min(), result4.min(), result5.min()"
   ]
  },
  {
   "cell_type": "code",
   "execution_count": 109,
   "id": "2c227283",
   "metadata": {},
   "outputs": [
    {
     "data": {
      "text/plain": [
       "(0.7840078695896571,\n",
       " 0.8324901630129286,\n",
       " 0.820123664980326,\n",
       " 0.6502248454187746,\n",
       " 0.8049465992130411)"
      ]
     },
     "execution_count": 109,
     "metadata": {},
     "output_type": "execute_result"
    }
   ],
   "source": [
    "result1.mean(), result2.mean(), result3.mean(), result4.mean(), result5.mean()"
   ]
  },
  {
   "cell_type": "code",
   "execution_count": 110,
   "id": "c26c8bfd",
   "metadata": {},
   "outputs": [
    {
     "name": "stdout",
     "output_type": "stream",
     "text": [
      "Scores:  [0.7840078695896571, 0.8324901630129286, 0.820123664980326, 0.6502248454187746, 0.8049465992130411]\n"
     ]
    },
    {
     "data": {
      "image/png": "[encoded data removed]",
      "text/plain": [
       "<Figure size 432x288 with 1 Axes>"
      ]
     },
     "metadata": {},
     "output_type": "display_data"
    }
   ],
   "source": [
    "GraphMaker(AlgoList, [result1.mean(), result2.mean(), result3.mean(), result4.mean(), result5.mean()])"
   ]
  },
  {
   "cell_type": "markdown",
   "id": "951dd2e6",
   "metadata": {},
   "source": [
    "###### Section 7.2.2.3: Random Over"
   ]
  },
  {
   "cell_type": "code",
   "execution_count": 111,
   "id": "b06e67c3",
   "metadata": {},
   "outputs": [],
   "source": [
    "st_kfold = StratifiedKFold(n_splits = 4)\n",
    "result1 = cross_val_score(DecisionTree, X_SMOT, Y_SMOT, cv = st_kfold) \n",
    "result2 = cross_val_score(xgb, X_SMOT, Y_SMOT, cv = st_kfold) \n",
    "result3 = cross_val_score(adaboost, X_SMOT, Y_SMOT, cv = st_kfold) \n",
    "result4 = cross_val_score(knn, X_SMOT, Y_SMOT, cv = st_kfold) \n",
    "result5 = cross_val_score(Logistic, X_SMOT, Y_SMOT, cv = st_kfold) "
   ]
  },
  {
   "cell_type": "code",
   "execution_count": 112,
   "id": "e697b0ea",
   "metadata": {},
   "outputs": [
    {
     "data": {
      "text/plain": [
       "(array([0.67341203, 0.79370433, 0.84204609, 0.84710512]),\n",
       " array([0.67903316, 0.84373243, 0.89544688, 0.91174817]),\n",
       " array([0.7054525 , 0.8381113 , 0.86677909, 0.87015177]),\n",
       " array([0.63406408, 0.63237774, 0.67678471, 0.65767285]),\n",
       " array([0.72681282, 0.81225408, 0.83305228, 0.84766723]))"
      ]
     },
     "execution_count": 112,
     "metadata": {},
     "output_type": "execute_result"
    }
   ],
   "source": [
    "result1, result2, result3, result4, result5"
   ]
  },
  {
   "cell_type": "code",
   "execution_count": 113,
   "id": "94c56097",
   "metadata": {},
   "outputs": [
    {
     "data": {
      "text/plain": [
       "(0.8471051152332771,\n",
       " 0.9117481731309725,\n",
       " 0.8701517706576728,\n",
       " 0.6767847105115233,\n",
       " 0.8476672287802136)"
      ]
     },
     "execution_count": 113,
     "metadata": {},
     "output_type": "execute_result"
    }
   ],
   "source": [
    "result1.max(), result2.max(), result3.max(), result4.max(), result5.max()"
   ]
  },
  {
   "cell_type": "code",
   "execution_count": 114,
   "id": "85f4a8f0",
   "metadata": {},
   "outputs": [
    {
     "data": {
      "text/plain": [
       "(0.6734120292299044,\n",
       " 0.6790331646992692,\n",
       " 0.7054525014052838,\n",
       " 0.6323777403035413,\n",
       " 0.7268128161888702)"
      ]
     },
     "execution_count": 114,
     "metadata": {},
     "output_type": "execute_result"
    }
   ],
   "source": [
    "result1.min(), result2.min(), result3.min(), result4.min(), result5.min()"
   ]
  },
  {
   "cell_type": "code",
   "execution_count": 115,
   "id": "2c227283",
   "metadata": {},
   "outputs": [
    {
     "data": {
      "text/plain": [
       "(0.7890668915120854,\n",
       " 0.8324901630129286,\n",
       " 0.820123664980326,\n",
       " 0.6502248454187746,\n",
       " 0.8049465992130411)"
      ]
     },
     "execution_count": 115,
     "metadata": {},
     "output_type": "execute_result"
    }
   ],
   "source": [
    "result1.mean(), result2.mean(), result3.mean(), result4.mean(), result5.mean()"
   ]
  },
  {
   "cell_type": "code",
   "execution_count": 116,
   "id": "c26c8bfd",
   "metadata": {},
   "outputs": [
    {
     "name": "stdout",
     "output_type": "stream",
     "text": [
      "Scores:  [0.7890668915120854, 0.8324901630129286, 0.820123664980326, 0.6502248454187746, 0.8049465992130411]\n"
     ]
    },
    {
     "data": {
      "image/png": "[encoded data removed]",
      "text/plain": [
       "<Figure size 432x288 with 1 Axes>"
      ]
     },
     "metadata": {},
     "output_type": "display_data"
    }
   ],
   "source": [
    "GraphMaker(AlgoList, [result1.mean(), result2.mean(), result3.mean(), result4.mean(), result5.mean()])"
   ]
  },
  {
   "cell_type": "markdown",
   "id": "208ffd8b",
   "metadata": {},
   "source": [
    "##### Section 7.2.3: Leave One Out"
   ]
  },
  {
   "cell_type": "markdown",
   "id": "2f72ec13",
   "metadata": {},
   "source": []
  }
 ],
 "metadata": {
  "kernelspec": {
   "display_name": "Python 3.10.1 64-bit",
   "language": "python",
   "name": "python3"
  },
  "language_info": {
   "codemirror_mode": {
    "name": "ipython",
    "version": 3
   },
   "file_extension": ".py",
   "mimetype": "text/x-python",
   "name": "python",
   "nbconvert_exporter": "python",
   "pygments_lexer": "ipython3",
   "version": "3.10.1"
  },
  "vscode": {
   "interpreter": {
    "hash": "92da819e55a468d924b70afc9c0dba7f1e7f7aa00c69ffabe3e336a7e34c105a"
   }
  }
 },
 "nbformat": 4,
 "nbformat_minor": 5
}
